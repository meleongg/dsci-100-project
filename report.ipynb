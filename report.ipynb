{
 "cells": [
  {
   "cell_type": "markdown",
   "metadata": {},
   "source": [
    "# Group 29 Project Report: An Analysis on Distinguishing the Presence or Absence of Heart Disease\n",
    "\n",
    "## Introduction\n",
    "***\n",
    "\n",
    "According to the Centers for Disease Control and Prevention, heart disease is any condition that affects the structure or function of the heart, often caused by high blood pressure, high cholesterol, or smoking. In the United States of America, heart disease-related complications are the leading cause of death - around 659,000 deaths each year (Centers of Disease Control and Prevention, 2020).\n",
    "\n",
    "To investigate the main factors behind heart disease, I posit the question: \"<b>Given values for the age, resting_blood_pressure, cholesterol, ST_depression, and max_heart_rate predictors, what would be the heart disease diagnosis?</b>\" using a K-Nearest Neighbours (KNN) classification algorithm on the <i>[Processed Cleveland Heart Disease Dataset](https://archive.ics.uci.edu/ml/datasets/Heart+Disease)</i>. This dataset contains 14 variables and 303 observations (Machine Learning Repository, n.d.).\n",
    "\n",
    "### Dataset Information\n",
    "| Variable | Brief Explanation |\n",
    "| --- | --- |\n",
    "| Age | a patient's age |\n",
    "| Sex | a patient's sex (1 = male, 0 = female) |\n",
    "| Chest Pain Type | 1 = typical angina, 2 = atypical angina, 3 = non-anginal pain, 4 = asymptomatic |\n",
    "| Resting Blood Pressure | in mm Hg on admission to the hospital |\n",
    "| Serum Cholesterol | a patient's cholesterol measurement in mg/dl |\n",
    "| Fasting Blood Sugar > 120 mg/dl | 1 = true, 0 = false |\n",
    "| Resting Electrocardiographic Results | 0 = normal, 1 = having ST-T wave abnormality, 2 = showing probable or definite left ventricular hypertrophy by Estes' criteria |\n",
    "| Max Heart Rate | a patient's maximum heart rate measured in bpm |\n",
    "| Exercised Induced Angina | (1 = yes, 0 = no); angina is a type of heart pain |\n",
    "| ST Depression Value | a measure of a part of an electrocardiogram reading after exercise, relative to rest |\n",
    "| Peak ST Segment Slope | (1 = upsloping, 2 = flat, 3 = downsloping); another measure of the slope of a part of an electrocardiogram reading after exercise |\n",
    "| Number of Major Vessels (coloured by fluoroscopy) | 0, 1, 2, 3 (vessels) |\n",
    "| Thalassemia | (3 = normal, 6 = fixed defect, 7 = reversable defect); this disorder causes red blood cells to carry less oxygen to the heart |\n",
    "| Heart Disease Diagnosis | 0 = absence, 1, 2, 3, 4 = presence |"
   ]
  },
  {
   "cell_type": "markdown",
   "metadata": {},
   "source": [
    "## Methods and Results\n",
    "***"
   ]
  },
  {
   "cell_type": "markdown",
   "metadata": {},
   "source": [
    "First, I import the necessary R packages, set the seed to 3 for reproducibility, and set warn to -1 to suppress global warning messages for readability. "
   ]
  },
  {
   "cell_type": "code",
   "execution_count": 1,
   "metadata": {},
   "outputs": [
    {
     "name": "stderr",
     "output_type": "stream",
     "text": [
      "── \u001b[1mAttaching packages\u001b[22m ─────────────────────────────────────── tidyverse 1.3.0 ──\n",
      "\n",
      "\u001b[32m✔\u001b[39m \u001b[34mggplot2\u001b[39m 3.3.2     \u001b[32m✔\u001b[39m \u001b[34mpurrr  \u001b[39m 0.3.4\n",
      "\u001b[32m✔\u001b[39m \u001b[34mtibble \u001b[39m 3.0.3     \u001b[32m✔\u001b[39m \u001b[34mdplyr  \u001b[39m 1.0.2\n",
      "\u001b[32m✔\u001b[39m \u001b[34mtidyr  \u001b[39m 1.1.2     \u001b[32m✔\u001b[39m \u001b[34mstringr\u001b[39m 1.4.0\n",
      "\u001b[32m✔\u001b[39m \u001b[34mreadr  \u001b[39m 1.3.1     \u001b[32m✔\u001b[39m \u001b[34mforcats\u001b[39m 0.5.0\n",
      "\n",
      "Warning message:\n",
      "“package ‘ggplot2’ was built under R version 4.0.1”\n",
      "Warning message:\n",
      "“package ‘tibble’ was built under R version 4.0.2”\n",
      "Warning message:\n",
      "“package ‘tidyr’ was built under R version 4.0.2”\n",
      "Warning message:\n",
      "“package ‘dplyr’ was built under R version 4.0.2”\n",
      "── \u001b[1mConflicts\u001b[22m ────────────────────────────────────────── tidyverse_conflicts() ──\n",
      "\u001b[31m✖\u001b[39m \u001b[34mdplyr\u001b[39m::\u001b[32mfilter()\u001b[39m masks \u001b[34mstats\u001b[39m::filter()\n",
      "\u001b[31m✖\u001b[39m \u001b[34mdplyr\u001b[39m::\u001b[32mlag()\u001b[39m    masks \u001b[34mstats\u001b[39m::lag()\n",
      "\n",
      "Warning message:\n",
      "“package ‘tidymodels’ was built under R version 4.0.2”\n",
      "── \u001b[1mAttaching packages\u001b[22m ────────────────────────────────────── tidymodels 0.1.1 ──\n",
      "\n",
      "\u001b[32m✔\u001b[39m \u001b[34mbroom    \u001b[39m 0.7.0      \u001b[32m✔\u001b[39m \u001b[34mrecipes  \u001b[39m 0.1.13\n",
      "\u001b[32m✔\u001b[39m \u001b[34mdials    \u001b[39m 0.0.9      \u001b[32m✔\u001b[39m \u001b[34mrsample  \u001b[39m 0.0.7 \n",
      "\u001b[32m✔\u001b[39m \u001b[34minfer    \u001b[39m 0.5.4      \u001b[32m✔\u001b[39m \u001b[34mtune     \u001b[39m 0.1.1 \n",
      "\u001b[32m✔\u001b[39m \u001b[34mmodeldata\u001b[39m 0.0.2      \u001b[32m✔\u001b[39m \u001b[34mworkflows\u001b[39m 0.2.0 \n",
      "\u001b[32m✔\u001b[39m \u001b[34mparsnip  \u001b[39m 0.1.3      \u001b[32m✔\u001b[39m \u001b[34myardstick\u001b[39m 0.0.7 \n",
      "\n",
      "Warning message:\n",
      "“package ‘broom’ was built under R version 4.0.2”\n",
      "Warning message:\n",
      "“package ‘dials’ was built under R version 4.0.2”\n",
      "Warning message:\n",
      "“package ‘infer’ was built under R version 4.0.3”\n",
      "Warning message:\n",
      "“package ‘modeldata’ was built under R version 4.0.1”\n",
      "Warning message:\n",
      "“package ‘parsnip’ was built under R version 4.0.2”\n",
      "Warning message:\n",
      "“package ‘recipes’ was built under R version 4.0.1”\n",
      "Warning message:\n",
      "“package ‘tune’ was built under R version 4.0.2”\n",
      "Warning message:\n",
      "“package ‘workflows’ was built under R version 4.0.2”\n",
      "Warning message:\n",
      "“package ‘yardstick’ was built under R version 4.0.2”\n",
      "── \u001b[1mConflicts\u001b[22m ───────────────────────────────────────── tidymodels_conflicts() ──\n",
      "\u001b[31m✖\u001b[39m \u001b[34mscales\u001b[39m::\u001b[32mdiscard()\u001b[39m masks \u001b[34mpurrr\u001b[39m::discard()\n",
      "\u001b[31m✖\u001b[39m \u001b[34mdplyr\u001b[39m::\u001b[32mfilter()\u001b[39m   masks \u001b[34mstats\u001b[39m::filter()\n",
      "\u001b[31m✖\u001b[39m \u001b[34mrecipes\u001b[39m::\u001b[32mfixed()\u001b[39m  masks \u001b[34mstringr\u001b[39m::fixed()\n",
      "\u001b[31m✖\u001b[39m \u001b[34mdplyr\u001b[39m::\u001b[32mlag()\u001b[39m      masks \u001b[34mstats\u001b[39m::lag()\n",
      "\u001b[31m✖\u001b[39m \u001b[34myardstick\u001b[39m::\u001b[32mspec()\u001b[39m masks \u001b[34mreadr\u001b[39m::spec()\n",
      "\u001b[31m✖\u001b[39m \u001b[34mrecipes\u001b[39m::\u001b[32mstep()\u001b[39m   masks \u001b[34mstats\u001b[39m::step()\n",
      "\n"
     ]
    }
   ],
   "source": [
    "library(tidyverse)\n",
    "library(tidymodels)\n",
    "set.seed(3)\n",
    "options(warn = -1)"
   ]
  },
  {
   "cell_type": "markdown",
   "metadata": {},
   "source": [
    "Now, I download the data file from the dataset URL with <i>download.file()</i> and load the data into an R data frame with <i>read_csv()</i>. "
   ]
  },
  {
   "cell_type": "code",
   "execution_count": 2,
   "metadata": {},
   "outputs": [],
   "source": [
    "data_url <- \"https://archive.ics.uci.edu/ml/machine-learning-databases/heart-disease/processed.cleveland.data\"\n",
    "\n",
    "download.file(data_url, destfile = \"heart_disease_data.csv\")"
   ]
  },
  {
   "cell_type": "markdown",
   "metadata": {},
   "source": [
    "Although the data frame is relatively tidy, I perform some wrangling improvements:\n",
    "- Adding variable names \n",
    "- Converting values > 1 in the diagnosis variable to be 1 (as specified in the dataset's notes)\n",
    "- Converting the diagnosis variable to become a factor\n",
    "- Converting the diagnosis values (0, 1) to be \"<b>Absence</b>\" and \"<b>Presence</b>\"\n",
    "- Converting \"?\" values to NAs\n",
    "- Removing 8 categorical variables as including categorical predictors makes KNN classification difficult\n",
    "- Removing 6 observations with NAs\n",
    "\n",
    "### Table 1 - Raw Heart Disease Data Frame"
   ]
  },
  {
   "cell_type": "code",
   "execution_count": 3,
   "metadata": {},
   "outputs": [
    {
     "name": "stderr",
     "output_type": "stream",
     "text": [
      "Parsed with column specification:\n",
      "cols(\n",
      "  age = \u001b[32mcol_double()\u001b[39m,\n",
      "  sex = \u001b[32mcol_double()\u001b[39m,\n",
      "  chest_pain_type = \u001b[32mcol_double()\u001b[39m,\n",
      "  resting_blood_pressure = \u001b[32mcol_double()\u001b[39m,\n",
      "  cholesterol = \u001b[32mcol_double()\u001b[39m,\n",
      "  fasting_blood_sugar = \u001b[32mcol_double()\u001b[39m,\n",
      "  electrocardio_results = \u001b[32mcol_double()\u001b[39m,\n",
      "  max_heart_rate = \u001b[32mcol_double()\u001b[39m,\n",
      "  exercise_induced_angina = \u001b[32mcol_double()\u001b[39m,\n",
      "  ST_depression = \u001b[32mcol_double()\u001b[39m,\n",
      "  ST_peak_slope = \u001b[32mcol_double()\u001b[39m,\n",
      "  major_vessels = \u001b[31mcol_character()\u001b[39m,\n",
      "  thal = \u001b[31mcol_character()\u001b[39m,\n",
      "  diagnosis = \u001b[32mcol_double()\u001b[39m\n",
      ")\n",
      "\n"
     ]
    },
    {
     "data": {
      "text/html": [
       "<table>\n",
       "<caption>A spec_tbl_df: 303 × 14</caption>\n",
       "<thead>\n",
       "\t<tr><th scope=col>age</th><th scope=col>sex</th><th scope=col>chest_pain_type</th><th scope=col>resting_blood_pressure</th><th scope=col>cholesterol</th><th scope=col>fasting_blood_sugar</th><th scope=col>electrocardio_results</th><th scope=col>max_heart_rate</th><th scope=col>exercise_induced_angina</th><th scope=col>ST_depression</th><th scope=col>ST_peak_slope</th><th scope=col>major_vessels</th><th scope=col>thal</th><th scope=col>diagnosis</th></tr>\n",
       "\t<tr><th scope=col>&lt;dbl&gt;</th><th scope=col>&lt;dbl&gt;</th><th scope=col>&lt;dbl&gt;</th><th scope=col>&lt;dbl&gt;</th><th scope=col>&lt;dbl&gt;</th><th scope=col>&lt;dbl&gt;</th><th scope=col>&lt;dbl&gt;</th><th scope=col>&lt;dbl&gt;</th><th scope=col>&lt;dbl&gt;</th><th scope=col>&lt;dbl&gt;</th><th scope=col>&lt;dbl&gt;</th><th scope=col>&lt;chr&gt;</th><th scope=col>&lt;chr&gt;</th><th scope=col>&lt;dbl&gt;</th></tr>\n",
       "</thead>\n",
       "<tbody>\n",
       "\t<tr><td>63</td><td>1</td><td>1</td><td>145</td><td>233</td><td>1</td><td>2</td><td>150</td><td>0</td><td>2.3</td><td>3</td><td>0.0</td><td>6.0</td><td>0</td></tr>\n",
       "\t<tr><td>67</td><td>1</td><td>4</td><td>160</td><td>286</td><td>0</td><td>2</td><td>108</td><td>1</td><td>1.5</td><td>2</td><td>3.0</td><td>3.0</td><td>2</td></tr>\n",
       "\t<tr><td>67</td><td>1</td><td>4</td><td>120</td><td>229</td><td>0</td><td>2</td><td>129</td><td>1</td><td>2.6</td><td>2</td><td>2.0</td><td>7.0</td><td>1</td></tr>\n",
       "\t<tr><td>37</td><td>1</td><td>3</td><td>130</td><td>250</td><td>0</td><td>0</td><td>187</td><td>0</td><td>3.5</td><td>3</td><td>0.0</td><td>3.0</td><td>0</td></tr>\n",
       "\t<tr><td>41</td><td>0</td><td>2</td><td>130</td><td>204</td><td>0</td><td>2</td><td>172</td><td>0</td><td>1.4</td><td>1</td><td>0.0</td><td>3.0</td><td>0</td></tr>\n",
       "\t<tr><td>56</td><td>1</td><td>2</td><td>120</td><td>236</td><td>0</td><td>0</td><td>178</td><td>0</td><td>0.8</td><td>1</td><td>0.0</td><td>3.0</td><td>0</td></tr>\n",
       "\t<tr><td>62</td><td>0</td><td>4</td><td>140</td><td>268</td><td>0</td><td>2</td><td>160</td><td>0</td><td>3.6</td><td>3</td><td>2.0</td><td>3.0</td><td>3</td></tr>\n",
       "\t<tr><td>57</td><td>0</td><td>4</td><td>120</td><td>354</td><td>0</td><td>0</td><td>163</td><td>1</td><td>0.6</td><td>1</td><td>0.0</td><td>3.0</td><td>0</td></tr>\n",
       "\t<tr><td>63</td><td>1</td><td>4</td><td>130</td><td>254</td><td>0</td><td>2</td><td>147</td><td>0</td><td>1.4</td><td>2</td><td>1.0</td><td>7.0</td><td>2</td></tr>\n",
       "\t<tr><td>53</td><td>1</td><td>4</td><td>140</td><td>203</td><td>1</td><td>2</td><td>155</td><td>1</td><td>3.1</td><td>3</td><td>0.0</td><td>7.0</td><td>1</td></tr>\n",
       "\t<tr><td>57</td><td>1</td><td>4</td><td>140</td><td>192</td><td>0</td><td>0</td><td>148</td><td>0</td><td>0.4</td><td>2</td><td>0.0</td><td>6.0</td><td>0</td></tr>\n",
       "\t<tr><td>56</td><td>0</td><td>2</td><td>140</td><td>294</td><td>0</td><td>2</td><td>153</td><td>0</td><td>1.3</td><td>2</td><td>0.0</td><td>3.0</td><td>0</td></tr>\n",
       "\t<tr><td>56</td><td>1</td><td>3</td><td>130</td><td>256</td><td>1</td><td>2</td><td>142</td><td>1</td><td>0.6</td><td>2</td><td>1.0</td><td>6.0</td><td>2</td></tr>\n",
       "\t<tr><td>44</td><td>1</td><td>2</td><td>120</td><td>263</td><td>0</td><td>0</td><td>173</td><td>0</td><td>0.0</td><td>1</td><td>0.0</td><td>7.0</td><td>0</td></tr>\n",
       "\t<tr><td>52</td><td>1</td><td>3</td><td>172</td><td>199</td><td>1</td><td>0</td><td>162</td><td>0</td><td>0.5</td><td>1</td><td>0.0</td><td>7.0</td><td>0</td></tr>\n",
       "\t<tr><td>57</td><td>1</td><td>3</td><td>150</td><td>168</td><td>0</td><td>0</td><td>174</td><td>0</td><td>1.6</td><td>1</td><td>0.0</td><td>3.0</td><td>0</td></tr>\n",
       "\t<tr><td>48</td><td>1</td><td>2</td><td>110</td><td>229</td><td>0</td><td>0</td><td>168</td><td>0</td><td>1.0</td><td>3</td><td>0.0</td><td>7.0</td><td>1</td></tr>\n",
       "\t<tr><td>54</td><td>1</td><td>4</td><td>140</td><td>239</td><td>0</td><td>0</td><td>160</td><td>0</td><td>1.2</td><td>1</td><td>0.0</td><td>3.0</td><td>0</td></tr>\n",
       "\t<tr><td>48</td><td>0</td><td>3</td><td>130</td><td>275</td><td>0</td><td>0</td><td>139</td><td>0</td><td>0.2</td><td>1</td><td>0.0</td><td>3.0</td><td>0</td></tr>\n",
       "\t<tr><td>49</td><td>1</td><td>2</td><td>130</td><td>266</td><td>0</td><td>0</td><td>171</td><td>0</td><td>0.6</td><td>1</td><td>0.0</td><td>3.0</td><td>0</td></tr>\n",
       "\t<tr><td>64</td><td>1</td><td>1</td><td>110</td><td>211</td><td>0</td><td>2</td><td>144</td><td>1</td><td>1.8</td><td>2</td><td>0.0</td><td>3.0</td><td>0</td></tr>\n",
       "\t<tr><td>58</td><td>0</td><td>1</td><td>150</td><td>283</td><td>1</td><td>2</td><td>162</td><td>0</td><td>1.0</td><td>1</td><td>0.0</td><td>3.0</td><td>0</td></tr>\n",
       "\t<tr><td>58</td><td>1</td><td>2</td><td>120</td><td>284</td><td>0</td><td>2</td><td>160</td><td>0</td><td>1.8</td><td>2</td><td>0.0</td><td>3.0</td><td>1</td></tr>\n",
       "\t<tr><td>58</td><td>1</td><td>3</td><td>132</td><td>224</td><td>0</td><td>2</td><td>173</td><td>0</td><td>3.2</td><td>1</td><td>2.0</td><td>7.0</td><td>3</td></tr>\n",
       "\t<tr><td>60</td><td>1</td><td>4</td><td>130</td><td>206</td><td>0</td><td>2</td><td>132</td><td>1</td><td>2.4</td><td>2</td><td>2.0</td><td>7.0</td><td>4</td></tr>\n",
       "\t<tr><td>50</td><td>0</td><td>3</td><td>120</td><td>219</td><td>0</td><td>0</td><td>158</td><td>0</td><td>1.6</td><td>2</td><td>0.0</td><td>3.0</td><td>0</td></tr>\n",
       "\t<tr><td>58</td><td>0</td><td>3</td><td>120</td><td>340</td><td>0</td><td>0</td><td>172</td><td>0</td><td>0.0</td><td>1</td><td>0.0</td><td>3.0</td><td>0</td></tr>\n",
       "\t<tr><td>66</td><td>0</td><td>1</td><td>150</td><td>226</td><td>0</td><td>0</td><td>114</td><td>0</td><td>2.6</td><td>3</td><td>0.0</td><td>3.0</td><td>0</td></tr>\n",
       "\t<tr><td>43</td><td>1</td><td>4</td><td>150</td><td>247</td><td>0</td><td>0</td><td>171</td><td>0</td><td>1.5</td><td>1</td><td>0.0</td><td>3.0</td><td>0</td></tr>\n",
       "\t<tr><td>40</td><td>1</td><td>4</td><td>110</td><td>167</td><td>0</td><td>2</td><td>114</td><td>1</td><td>2.0</td><td>2</td><td>0.0</td><td>7.0</td><td>3</td></tr>\n",
       "\t<tr><td>⋮</td><td>⋮</td><td>⋮</td><td>⋮</td><td>⋮</td><td>⋮</td><td>⋮</td><td>⋮</td><td>⋮</td><td>⋮</td><td>⋮</td><td>⋮</td><td>⋮</td><td>⋮</td></tr>\n",
       "\t<tr><td>71</td><td>0</td><td>4</td><td>112</td><td>149</td><td>0</td><td>0</td><td>125</td><td>0</td><td>1.6</td><td>2</td><td>0.0</td><td>3.0</td><td>0</td></tr>\n",
       "\t<tr><td>59</td><td>1</td><td>1</td><td>134</td><td>204</td><td>0</td><td>0</td><td>162</td><td>0</td><td>0.8</td><td>1</td><td>2.0</td><td>3.0</td><td>1</td></tr>\n",
       "\t<tr><td>64</td><td>1</td><td>1</td><td>170</td><td>227</td><td>0</td><td>2</td><td>155</td><td>0</td><td>0.6</td><td>2</td><td>0.0</td><td>7.0</td><td>0</td></tr>\n",
       "\t<tr><td>66</td><td>0</td><td>3</td><td>146</td><td>278</td><td>0</td><td>2</td><td>152</td><td>0</td><td>0.0</td><td>2</td><td>1.0</td><td>3.0</td><td>0</td></tr>\n",
       "\t<tr><td>39</td><td>0</td><td>3</td><td>138</td><td>220</td><td>0</td><td>0</td><td>152</td><td>0</td><td>0.0</td><td>2</td><td>0.0</td><td>3.0</td><td>0</td></tr>\n",
       "\t<tr><td>57</td><td>1</td><td>2</td><td>154</td><td>232</td><td>0</td><td>2</td><td>164</td><td>0</td><td>0.0</td><td>1</td><td>1.0</td><td>3.0</td><td>1</td></tr>\n",
       "\t<tr><td>58</td><td>0</td><td>4</td><td>130</td><td>197</td><td>0</td><td>0</td><td>131</td><td>0</td><td>0.6</td><td>2</td><td>0.0</td><td>3.0</td><td>0</td></tr>\n",
       "\t<tr><td>57</td><td>1</td><td>4</td><td>110</td><td>335</td><td>0</td><td>0</td><td>143</td><td>1</td><td>3.0</td><td>2</td><td>1.0</td><td>7.0</td><td>2</td></tr>\n",
       "\t<tr><td>47</td><td>1</td><td>3</td><td>130</td><td>253</td><td>0</td><td>0</td><td>179</td><td>0</td><td>0.0</td><td>1</td><td>0.0</td><td>3.0</td><td>0</td></tr>\n",
       "\t<tr><td>55</td><td>0</td><td>4</td><td>128</td><td>205</td><td>0</td><td>1</td><td>130</td><td>1</td><td>2.0</td><td>2</td><td>1.0</td><td>7.0</td><td>3</td></tr>\n",
       "\t<tr><td>35</td><td>1</td><td>2</td><td>122</td><td>192</td><td>0</td><td>0</td><td>174</td><td>0</td><td>0.0</td><td>1</td><td>0.0</td><td>3.0</td><td>0</td></tr>\n",
       "\t<tr><td>61</td><td>1</td><td>4</td><td>148</td><td>203</td><td>0</td><td>0</td><td>161</td><td>0</td><td>0.0</td><td>1</td><td>1.0</td><td>7.0</td><td>2</td></tr>\n",
       "\t<tr><td>58</td><td>1</td><td>4</td><td>114</td><td>318</td><td>0</td><td>1</td><td>140</td><td>0</td><td>4.4</td><td>3</td><td>3.0</td><td>6.0</td><td>4</td></tr>\n",
       "\t<tr><td>58</td><td>0</td><td>4</td><td>170</td><td>225</td><td>1</td><td>2</td><td>146</td><td>1</td><td>2.8</td><td>2</td><td>2.0</td><td>6.0</td><td>2</td></tr>\n",
       "\t<tr><td>58</td><td>1</td><td>2</td><td>125</td><td>220</td><td>0</td><td>0</td><td>144</td><td>0</td><td>0.4</td><td>2</td><td>?  </td><td>7.0</td><td>0</td></tr>\n",
       "\t<tr><td>56</td><td>1</td><td>2</td><td>130</td><td>221</td><td>0</td><td>2</td><td>163</td><td>0</td><td>0.0</td><td>1</td><td>0.0</td><td>7.0</td><td>0</td></tr>\n",
       "\t<tr><td>56</td><td>1</td><td>2</td><td>120</td><td>240</td><td>0</td><td>0</td><td>169</td><td>0</td><td>0.0</td><td>3</td><td>0.0</td><td>3.0</td><td>0</td></tr>\n",
       "\t<tr><td>67</td><td>1</td><td>3</td><td>152</td><td>212</td><td>0</td><td>2</td><td>150</td><td>0</td><td>0.8</td><td>2</td><td>0.0</td><td>7.0</td><td>1</td></tr>\n",
       "\t<tr><td>55</td><td>0</td><td>2</td><td>132</td><td>342</td><td>0</td><td>0</td><td>166</td><td>0</td><td>1.2</td><td>1</td><td>0.0</td><td>3.0</td><td>0</td></tr>\n",
       "\t<tr><td>44</td><td>1</td><td>4</td><td>120</td><td>169</td><td>0</td><td>0</td><td>144</td><td>1</td><td>2.8</td><td>3</td><td>0.0</td><td>6.0</td><td>2</td></tr>\n",
       "\t<tr><td>63</td><td>1</td><td>4</td><td>140</td><td>187</td><td>0</td><td>2</td><td>144</td><td>1</td><td>4.0</td><td>1</td><td>2.0</td><td>7.0</td><td>2</td></tr>\n",
       "\t<tr><td>63</td><td>0</td><td>4</td><td>124</td><td>197</td><td>0</td><td>0</td><td>136</td><td>1</td><td>0.0</td><td>2</td><td>0.0</td><td>3.0</td><td>1</td></tr>\n",
       "\t<tr><td>41</td><td>1</td><td>2</td><td>120</td><td>157</td><td>0</td><td>0</td><td>182</td><td>0</td><td>0.0</td><td>1</td><td>0.0</td><td>3.0</td><td>0</td></tr>\n",
       "\t<tr><td>59</td><td>1</td><td>4</td><td>164</td><td>176</td><td>1</td><td>2</td><td> 90</td><td>0</td><td>1.0</td><td>2</td><td>2.0</td><td>6.0</td><td>3</td></tr>\n",
       "\t<tr><td>57</td><td>0</td><td>4</td><td>140</td><td>241</td><td>0</td><td>0</td><td>123</td><td>1</td><td>0.2</td><td>2</td><td>0.0</td><td>7.0</td><td>1</td></tr>\n",
       "\t<tr><td>45</td><td>1</td><td>1</td><td>110</td><td>264</td><td>0</td><td>0</td><td>132</td><td>0</td><td>1.2</td><td>2</td><td>0.0</td><td>7.0</td><td>1</td></tr>\n",
       "\t<tr><td>68</td><td>1</td><td>4</td><td>144</td><td>193</td><td>1</td><td>0</td><td>141</td><td>0</td><td>3.4</td><td>2</td><td>2.0</td><td>7.0</td><td>2</td></tr>\n",
       "\t<tr><td>57</td><td>1</td><td>4</td><td>130</td><td>131</td><td>0</td><td>0</td><td>115</td><td>1</td><td>1.2</td><td>2</td><td>1.0</td><td>7.0</td><td>3</td></tr>\n",
       "\t<tr><td>57</td><td>0</td><td>2</td><td>130</td><td>236</td><td>0</td><td>2</td><td>174</td><td>0</td><td>0.0</td><td>2</td><td>1.0</td><td>3.0</td><td>1</td></tr>\n",
       "\t<tr><td>38</td><td>1</td><td>3</td><td>138</td><td>175</td><td>0</td><td>0</td><td>173</td><td>0</td><td>0.0</td><td>1</td><td>?  </td><td>3.0</td><td>0</td></tr>\n",
       "</tbody>\n",
       "</table>\n"
      ],
      "text/latex": [
       "A spec\\_tbl\\_df: 303 × 14\n",
       "\\begin{tabular}{llllllllllllll}\n",
       " age & sex & chest\\_pain\\_type & resting\\_blood\\_pressure & cholesterol & fasting\\_blood\\_sugar & electrocardio\\_results & max\\_heart\\_rate & exercise\\_induced\\_angina & ST\\_depression & ST\\_peak\\_slope & major\\_vessels & thal & diagnosis\\\\\n",
       " <dbl> & <dbl> & <dbl> & <dbl> & <dbl> & <dbl> & <dbl> & <dbl> & <dbl> & <dbl> & <dbl> & <chr> & <chr> & <dbl>\\\\\n",
       "\\hline\n",
       "\t 63 & 1 & 1 & 145 & 233 & 1 & 2 & 150 & 0 & 2.3 & 3 & 0.0 & 6.0 & 0\\\\\n",
       "\t 67 & 1 & 4 & 160 & 286 & 0 & 2 & 108 & 1 & 1.5 & 2 & 3.0 & 3.0 & 2\\\\\n",
       "\t 67 & 1 & 4 & 120 & 229 & 0 & 2 & 129 & 1 & 2.6 & 2 & 2.0 & 7.0 & 1\\\\\n",
       "\t 37 & 1 & 3 & 130 & 250 & 0 & 0 & 187 & 0 & 3.5 & 3 & 0.0 & 3.0 & 0\\\\\n",
       "\t 41 & 0 & 2 & 130 & 204 & 0 & 2 & 172 & 0 & 1.4 & 1 & 0.0 & 3.0 & 0\\\\\n",
       "\t 56 & 1 & 2 & 120 & 236 & 0 & 0 & 178 & 0 & 0.8 & 1 & 0.0 & 3.0 & 0\\\\\n",
       "\t 62 & 0 & 4 & 140 & 268 & 0 & 2 & 160 & 0 & 3.6 & 3 & 2.0 & 3.0 & 3\\\\\n",
       "\t 57 & 0 & 4 & 120 & 354 & 0 & 0 & 163 & 1 & 0.6 & 1 & 0.0 & 3.0 & 0\\\\\n",
       "\t 63 & 1 & 4 & 130 & 254 & 0 & 2 & 147 & 0 & 1.4 & 2 & 1.0 & 7.0 & 2\\\\\n",
       "\t 53 & 1 & 4 & 140 & 203 & 1 & 2 & 155 & 1 & 3.1 & 3 & 0.0 & 7.0 & 1\\\\\n",
       "\t 57 & 1 & 4 & 140 & 192 & 0 & 0 & 148 & 0 & 0.4 & 2 & 0.0 & 6.0 & 0\\\\\n",
       "\t 56 & 0 & 2 & 140 & 294 & 0 & 2 & 153 & 0 & 1.3 & 2 & 0.0 & 3.0 & 0\\\\\n",
       "\t 56 & 1 & 3 & 130 & 256 & 1 & 2 & 142 & 1 & 0.6 & 2 & 1.0 & 6.0 & 2\\\\\n",
       "\t 44 & 1 & 2 & 120 & 263 & 0 & 0 & 173 & 0 & 0.0 & 1 & 0.0 & 7.0 & 0\\\\\n",
       "\t 52 & 1 & 3 & 172 & 199 & 1 & 0 & 162 & 0 & 0.5 & 1 & 0.0 & 7.0 & 0\\\\\n",
       "\t 57 & 1 & 3 & 150 & 168 & 0 & 0 & 174 & 0 & 1.6 & 1 & 0.0 & 3.0 & 0\\\\\n",
       "\t 48 & 1 & 2 & 110 & 229 & 0 & 0 & 168 & 0 & 1.0 & 3 & 0.0 & 7.0 & 1\\\\\n",
       "\t 54 & 1 & 4 & 140 & 239 & 0 & 0 & 160 & 0 & 1.2 & 1 & 0.0 & 3.0 & 0\\\\\n",
       "\t 48 & 0 & 3 & 130 & 275 & 0 & 0 & 139 & 0 & 0.2 & 1 & 0.0 & 3.0 & 0\\\\\n",
       "\t 49 & 1 & 2 & 130 & 266 & 0 & 0 & 171 & 0 & 0.6 & 1 & 0.0 & 3.0 & 0\\\\\n",
       "\t 64 & 1 & 1 & 110 & 211 & 0 & 2 & 144 & 1 & 1.8 & 2 & 0.0 & 3.0 & 0\\\\\n",
       "\t 58 & 0 & 1 & 150 & 283 & 1 & 2 & 162 & 0 & 1.0 & 1 & 0.0 & 3.0 & 0\\\\\n",
       "\t 58 & 1 & 2 & 120 & 284 & 0 & 2 & 160 & 0 & 1.8 & 2 & 0.0 & 3.0 & 1\\\\\n",
       "\t 58 & 1 & 3 & 132 & 224 & 0 & 2 & 173 & 0 & 3.2 & 1 & 2.0 & 7.0 & 3\\\\\n",
       "\t 60 & 1 & 4 & 130 & 206 & 0 & 2 & 132 & 1 & 2.4 & 2 & 2.0 & 7.0 & 4\\\\\n",
       "\t 50 & 0 & 3 & 120 & 219 & 0 & 0 & 158 & 0 & 1.6 & 2 & 0.0 & 3.0 & 0\\\\\n",
       "\t 58 & 0 & 3 & 120 & 340 & 0 & 0 & 172 & 0 & 0.0 & 1 & 0.0 & 3.0 & 0\\\\\n",
       "\t 66 & 0 & 1 & 150 & 226 & 0 & 0 & 114 & 0 & 2.6 & 3 & 0.0 & 3.0 & 0\\\\\n",
       "\t 43 & 1 & 4 & 150 & 247 & 0 & 0 & 171 & 0 & 1.5 & 1 & 0.0 & 3.0 & 0\\\\\n",
       "\t 40 & 1 & 4 & 110 & 167 & 0 & 2 & 114 & 1 & 2.0 & 2 & 0.0 & 7.0 & 3\\\\\n",
       "\t ⋮ & ⋮ & ⋮ & ⋮ & ⋮ & ⋮ & ⋮ & ⋮ & ⋮ & ⋮ & ⋮ & ⋮ & ⋮ & ⋮\\\\\n",
       "\t 71 & 0 & 4 & 112 & 149 & 0 & 0 & 125 & 0 & 1.6 & 2 & 0.0 & 3.0 & 0\\\\\n",
       "\t 59 & 1 & 1 & 134 & 204 & 0 & 0 & 162 & 0 & 0.8 & 1 & 2.0 & 3.0 & 1\\\\\n",
       "\t 64 & 1 & 1 & 170 & 227 & 0 & 2 & 155 & 0 & 0.6 & 2 & 0.0 & 7.0 & 0\\\\\n",
       "\t 66 & 0 & 3 & 146 & 278 & 0 & 2 & 152 & 0 & 0.0 & 2 & 1.0 & 3.0 & 0\\\\\n",
       "\t 39 & 0 & 3 & 138 & 220 & 0 & 0 & 152 & 0 & 0.0 & 2 & 0.0 & 3.0 & 0\\\\\n",
       "\t 57 & 1 & 2 & 154 & 232 & 0 & 2 & 164 & 0 & 0.0 & 1 & 1.0 & 3.0 & 1\\\\\n",
       "\t 58 & 0 & 4 & 130 & 197 & 0 & 0 & 131 & 0 & 0.6 & 2 & 0.0 & 3.0 & 0\\\\\n",
       "\t 57 & 1 & 4 & 110 & 335 & 0 & 0 & 143 & 1 & 3.0 & 2 & 1.0 & 7.0 & 2\\\\\n",
       "\t 47 & 1 & 3 & 130 & 253 & 0 & 0 & 179 & 0 & 0.0 & 1 & 0.0 & 3.0 & 0\\\\\n",
       "\t 55 & 0 & 4 & 128 & 205 & 0 & 1 & 130 & 1 & 2.0 & 2 & 1.0 & 7.0 & 3\\\\\n",
       "\t 35 & 1 & 2 & 122 & 192 & 0 & 0 & 174 & 0 & 0.0 & 1 & 0.0 & 3.0 & 0\\\\\n",
       "\t 61 & 1 & 4 & 148 & 203 & 0 & 0 & 161 & 0 & 0.0 & 1 & 1.0 & 7.0 & 2\\\\\n",
       "\t 58 & 1 & 4 & 114 & 318 & 0 & 1 & 140 & 0 & 4.4 & 3 & 3.0 & 6.0 & 4\\\\\n",
       "\t 58 & 0 & 4 & 170 & 225 & 1 & 2 & 146 & 1 & 2.8 & 2 & 2.0 & 6.0 & 2\\\\\n",
       "\t 58 & 1 & 2 & 125 & 220 & 0 & 0 & 144 & 0 & 0.4 & 2 & ?   & 7.0 & 0\\\\\n",
       "\t 56 & 1 & 2 & 130 & 221 & 0 & 2 & 163 & 0 & 0.0 & 1 & 0.0 & 7.0 & 0\\\\\n",
       "\t 56 & 1 & 2 & 120 & 240 & 0 & 0 & 169 & 0 & 0.0 & 3 & 0.0 & 3.0 & 0\\\\\n",
       "\t 67 & 1 & 3 & 152 & 212 & 0 & 2 & 150 & 0 & 0.8 & 2 & 0.0 & 7.0 & 1\\\\\n",
       "\t 55 & 0 & 2 & 132 & 342 & 0 & 0 & 166 & 0 & 1.2 & 1 & 0.0 & 3.0 & 0\\\\\n",
       "\t 44 & 1 & 4 & 120 & 169 & 0 & 0 & 144 & 1 & 2.8 & 3 & 0.0 & 6.0 & 2\\\\\n",
       "\t 63 & 1 & 4 & 140 & 187 & 0 & 2 & 144 & 1 & 4.0 & 1 & 2.0 & 7.0 & 2\\\\\n",
       "\t 63 & 0 & 4 & 124 & 197 & 0 & 0 & 136 & 1 & 0.0 & 2 & 0.0 & 3.0 & 1\\\\\n",
       "\t 41 & 1 & 2 & 120 & 157 & 0 & 0 & 182 & 0 & 0.0 & 1 & 0.0 & 3.0 & 0\\\\\n",
       "\t 59 & 1 & 4 & 164 & 176 & 1 & 2 &  90 & 0 & 1.0 & 2 & 2.0 & 6.0 & 3\\\\\n",
       "\t 57 & 0 & 4 & 140 & 241 & 0 & 0 & 123 & 1 & 0.2 & 2 & 0.0 & 7.0 & 1\\\\\n",
       "\t 45 & 1 & 1 & 110 & 264 & 0 & 0 & 132 & 0 & 1.2 & 2 & 0.0 & 7.0 & 1\\\\\n",
       "\t 68 & 1 & 4 & 144 & 193 & 1 & 0 & 141 & 0 & 3.4 & 2 & 2.0 & 7.0 & 2\\\\\n",
       "\t 57 & 1 & 4 & 130 & 131 & 0 & 0 & 115 & 1 & 1.2 & 2 & 1.0 & 7.0 & 3\\\\\n",
       "\t 57 & 0 & 2 & 130 & 236 & 0 & 2 & 174 & 0 & 0.0 & 2 & 1.0 & 3.0 & 1\\\\\n",
       "\t 38 & 1 & 3 & 138 & 175 & 0 & 0 & 173 & 0 & 0.0 & 1 & ?   & 3.0 & 0\\\\\n",
       "\\end{tabular}\n"
      ],
      "text/markdown": [
       "\n",
       "A spec_tbl_df: 303 × 14\n",
       "\n",
       "| age &lt;dbl&gt; | sex &lt;dbl&gt; | chest_pain_type &lt;dbl&gt; | resting_blood_pressure &lt;dbl&gt; | cholesterol &lt;dbl&gt; | fasting_blood_sugar &lt;dbl&gt; | electrocardio_results &lt;dbl&gt; | max_heart_rate &lt;dbl&gt; | exercise_induced_angina &lt;dbl&gt; | ST_depression &lt;dbl&gt; | ST_peak_slope &lt;dbl&gt; | major_vessels &lt;chr&gt; | thal &lt;chr&gt; | diagnosis &lt;dbl&gt; |\n",
       "|---|---|---|---|---|---|---|---|---|---|---|---|---|---|\n",
       "| 63 | 1 | 1 | 145 | 233 | 1 | 2 | 150 | 0 | 2.3 | 3 | 0.0 | 6.0 | 0 |\n",
       "| 67 | 1 | 4 | 160 | 286 | 0 | 2 | 108 | 1 | 1.5 | 2 | 3.0 | 3.0 | 2 |\n",
       "| 67 | 1 | 4 | 120 | 229 | 0 | 2 | 129 | 1 | 2.6 | 2 | 2.0 | 7.0 | 1 |\n",
       "| 37 | 1 | 3 | 130 | 250 | 0 | 0 | 187 | 0 | 3.5 | 3 | 0.0 | 3.0 | 0 |\n",
       "| 41 | 0 | 2 | 130 | 204 | 0 | 2 | 172 | 0 | 1.4 | 1 | 0.0 | 3.0 | 0 |\n",
       "| 56 | 1 | 2 | 120 | 236 | 0 | 0 | 178 | 0 | 0.8 | 1 | 0.0 | 3.0 | 0 |\n",
       "| 62 | 0 | 4 | 140 | 268 | 0 | 2 | 160 | 0 | 3.6 | 3 | 2.0 | 3.0 | 3 |\n",
       "| 57 | 0 | 4 | 120 | 354 | 0 | 0 | 163 | 1 | 0.6 | 1 | 0.0 | 3.0 | 0 |\n",
       "| 63 | 1 | 4 | 130 | 254 | 0 | 2 | 147 | 0 | 1.4 | 2 | 1.0 | 7.0 | 2 |\n",
       "| 53 | 1 | 4 | 140 | 203 | 1 | 2 | 155 | 1 | 3.1 | 3 | 0.0 | 7.0 | 1 |\n",
       "| 57 | 1 | 4 | 140 | 192 | 0 | 0 | 148 | 0 | 0.4 | 2 | 0.0 | 6.0 | 0 |\n",
       "| 56 | 0 | 2 | 140 | 294 | 0 | 2 | 153 | 0 | 1.3 | 2 | 0.0 | 3.0 | 0 |\n",
       "| 56 | 1 | 3 | 130 | 256 | 1 | 2 | 142 | 1 | 0.6 | 2 | 1.0 | 6.0 | 2 |\n",
       "| 44 | 1 | 2 | 120 | 263 | 0 | 0 | 173 | 0 | 0.0 | 1 | 0.0 | 7.0 | 0 |\n",
       "| 52 | 1 | 3 | 172 | 199 | 1 | 0 | 162 | 0 | 0.5 | 1 | 0.0 | 7.0 | 0 |\n",
       "| 57 | 1 | 3 | 150 | 168 | 0 | 0 | 174 | 0 | 1.6 | 1 | 0.0 | 3.0 | 0 |\n",
       "| 48 | 1 | 2 | 110 | 229 | 0 | 0 | 168 | 0 | 1.0 | 3 | 0.0 | 7.0 | 1 |\n",
       "| 54 | 1 | 4 | 140 | 239 | 0 | 0 | 160 | 0 | 1.2 | 1 | 0.0 | 3.0 | 0 |\n",
       "| 48 | 0 | 3 | 130 | 275 | 0 | 0 | 139 | 0 | 0.2 | 1 | 0.0 | 3.0 | 0 |\n",
       "| 49 | 1 | 2 | 130 | 266 | 0 | 0 | 171 | 0 | 0.6 | 1 | 0.0 | 3.0 | 0 |\n",
       "| 64 | 1 | 1 | 110 | 211 | 0 | 2 | 144 | 1 | 1.8 | 2 | 0.0 | 3.0 | 0 |\n",
       "| 58 | 0 | 1 | 150 | 283 | 1 | 2 | 162 | 0 | 1.0 | 1 | 0.0 | 3.0 | 0 |\n",
       "| 58 | 1 | 2 | 120 | 284 | 0 | 2 | 160 | 0 | 1.8 | 2 | 0.0 | 3.0 | 1 |\n",
       "| 58 | 1 | 3 | 132 | 224 | 0 | 2 | 173 | 0 | 3.2 | 1 | 2.0 | 7.0 | 3 |\n",
       "| 60 | 1 | 4 | 130 | 206 | 0 | 2 | 132 | 1 | 2.4 | 2 | 2.0 | 7.0 | 4 |\n",
       "| 50 | 0 | 3 | 120 | 219 | 0 | 0 | 158 | 0 | 1.6 | 2 | 0.0 | 3.0 | 0 |\n",
       "| 58 | 0 | 3 | 120 | 340 | 0 | 0 | 172 | 0 | 0.0 | 1 | 0.0 | 3.0 | 0 |\n",
       "| 66 | 0 | 1 | 150 | 226 | 0 | 0 | 114 | 0 | 2.6 | 3 | 0.0 | 3.0 | 0 |\n",
       "| 43 | 1 | 4 | 150 | 247 | 0 | 0 | 171 | 0 | 1.5 | 1 | 0.0 | 3.0 | 0 |\n",
       "| 40 | 1 | 4 | 110 | 167 | 0 | 2 | 114 | 1 | 2.0 | 2 | 0.0 | 7.0 | 3 |\n",
       "| ⋮ | ⋮ | ⋮ | ⋮ | ⋮ | ⋮ | ⋮ | ⋮ | ⋮ | ⋮ | ⋮ | ⋮ | ⋮ | ⋮ |\n",
       "| 71 | 0 | 4 | 112 | 149 | 0 | 0 | 125 | 0 | 1.6 | 2 | 0.0 | 3.0 | 0 |\n",
       "| 59 | 1 | 1 | 134 | 204 | 0 | 0 | 162 | 0 | 0.8 | 1 | 2.0 | 3.0 | 1 |\n",
       "| 64 | 1 | 1 | 170 | 227 | 0 | 2 | 155 | 0 | 0.6 | 2 | 0.0 | 7.0 | 0 |\n",
       "| 66 | 0 | 3 | 146 | 278 | 0 | 2 | 152 | 0 | 0.0 | 2 | 1.0 | 3.0 | 0 |\n",
       "| 39 | 0 | 3 | 138 | 220 | 0 | 0 | 152 | 0 | 0.0 | 2 | 0.0 | 3.0 | 0 |\n",
       "| 57 | 1 | 2 | 154 | 232 | 0 | 2 | 164 | 0 | 0.0 | 1 | 1.0 | 3.0 | 1 |\n",
       "| 58 | 0 | 4 | 130 | 197 | 0 | 0 | 131 | 0 | 0.6 | 2 | 0.0 | 3.0 | 0 |\n",
       "| 57 | 1 | 4 | 110 | 335 | 0 | 0 | 143 | 1 | 3.0 | 2 | 1.0 | 7.0 | 2 |\n",
       "| 47 | 1 | 3 | 130 | 253 | 0 | 0 | 179 | 0 | 0.0 | 1 | 0.0 | 3.0 | 0 |\n",
       "| 55 | 0 | 4 | 128 | 205 | 0 | 1 | 130 | 1 | 2.0 | 2 | 1.0 | 7.0 | 3 |\n",
       "| 35 | 1 | 2 | 122 | 192 | 0 | 0 | 174 | 0 | 0.0 | 1 | 0.0 | 3.0 | 0 |\n",
       "| 61 | 1 | 4 | 148 | 203 | 0 | 0 | 161 | 0 | 0.0 | 1 | 1.0 | 7.0 | 2 |\n",
       "| 58 | 1 | 4 | 114 | 318 | 0 | 1 | 140 | 0 | 4.4 | 3 | 3.0 | 6.0 | 4 |\n",
       "| 58 | 0 | 4 | 170 | 225 | 1 | 2 | 146 | 1 | 2.8 | 2 | 2.0 | 6.0 | 2 |\n",
       "| 58 | 1 | 2 | 125 | 220 | 0 | 0 | 144 | 0 | 0.4 | 2 | ?   | 7.0 | 0 |\n",
       "| 56 | 1 | 2 | 130 | 221 | 0 | 2 | 163 | 0 | 0.0 | 1 | 0.0 | 7.0 | 0 |\n",
       "| 56 | 1 | 2 | 120 | 240 | 0 | 0 | 169 | 0 | 0.0 | 3 | 0.0 | 3.0 | 0 |\n",
       "| 67 | 1 | 3 | 152 | 212 | 0 | 2 | 150 | 0 | 0.8 | 2 | 0.0 | 7.0 | 1 |\n",
       "| 55 | 0 | 2 | 132 | 342 | 0 | 0 | 166 | 0 | 1.2 | 1 | 0.0 | 3.0 | 0 |\n",
       "| 44 | 1 | 4 | 120 | 169 | 0 | 0 | 144 | 1 | 2.8 | 3 | 0.0 | 6.0 | 2 |\n",
       "| 63 | 1 | 4 | 140 | 187 | 0 | 2 | 144 | 1 | 4.0 | 1 | 2.0 | 7.0 | 2 |\n",
       "| 63 | 0 | 4 | 124 | 197 | 0 | 0 | 136 | 1 | 0.0 | 2 | 0.0 | 3.0 | 1 |\n",
       "| 41 | 1 | 2 | 120 | 157 | 0 | 0 | 182 | 0 | 0.0 | 1 | 0.0 | 3.0 | 0 |\n",
       "| 59 | 1 | 4 | 164 | 176 | 1 | 2 |  90 | 0 | 1.0 | 2 | 2.0 | 6.0 | 3 |\n",
       "| 57 | 0 | 4 | 140 | 241 | 0 | 0 | 123 | 1 | 0.2 | 2 | 0.0 | 7.0 | 1 |\n",
       "| 45 | 1 | 1 | 110 | 264 | 0 | 0 | 132 | 0 | 1.2 | 2 | 0.0 | 7.0 | 1 |\n",
       "| 68 | 1 | 4 | 144 | 193 | 1 | 0 | 141 | 0 | 3.4 | 2 | 2.0 | 7.0 | 2 |\n",
       "| 57 | 1 | 4 | 130 | 131 | 0 | 0 | 115 | 1 | 1.2 | 2 | 1.0 | 7.0 | 3 |\n",
       "| 57 | 0 | 2 | 130 | 236 | 0 | 2 | 174 | 0 | 0.0 | 2 | 1.0 | 3.0 | 1 |\n",
       "| 38 | 1 | 3 | 138 | 175 | 0 | 0 | 173 | 0 | 0.0 | 1 | ?   | 3.0 | 0 |\n",
       "\n"
      ],
      "text/plain": [
       "    age sex chest_pain_type resting_blood_pressure cholesterol\n",
       "1   63  1   1               145                    233        \n",
       "2   67  1   4               160                    286        \n",
       "3   67  1   4               120                    229        \n",
       "4   37  1   3               130                    250        \n",
       "5   41  0   2               130                    204        \n",
       "6   56  1   2               120                    236        \n",
       "7   62  0   4               140                    268        \n",
       "8   57  0   4               120                    354        \n",
       "9   63  1   4               130                    254        \n",
       "10  53  1   4               140                    203        \n",
       "11  57  1   4               140                    192        \n",
       "12  56  0   2               140                    294        \n",
       "13  56  1   3               130                    256        \n",
       "14  44  1   2               120                    263        \n",
       "15  52  1   3               172                    199        \n",
       "16  57  1   3               150                    168        \n",
       "17  48  1   2               110                    229        \n",
       "18  54  1   4               140                    239        \n",
       "19  48  0   3               130                    275        \n",
       "20  49  1   2               130                    266        \n",
       "21  64  1   1               110                    211        \n",
       "22  58  0   1               150                    283        \n",
       "23  58  1   2               120                    284        \n",
       "24  58  1   3               132                    224        \n",
       "25  60  1   4               130                    206        \n",
       "26  50  0   3               120                    219        \n",
       "27  58  0   3               120                    340        \n",
       "28  66  0   1               150                    226        \n",
       "29  43  1   4               150                    247        \n",
       "30  40  1   4               110                    167        \n",
       "⋮   ⋮   ⋮   ⋮               ⋮                      ⋮          \n",
       "274 71  0   4               112                    149        \n",
       "275 59  1   1               134                    204        \n",
       "276 64  1   1               170                    227        \n",
       "277 66  0   3               146                    278        \n",
       "278 39  0   3               138                    220        \n",
       "279 57  1   2               154                    232        \n",
       "280 58  0   4               130                    197        \n",
       "281 57  1   4               110                    335        \n",
       "282 47  1   3               130                    253        \n",
       "283 55  0   4               128                    205        \n",
       "284 35  1   2               122                    192        \n",
       "285 61  1   4               148                    203        \n",
       "286 58  1   4               114                    318        \n",
       "287 58  0   4               170                    225        \n",
       "288 58  1   2               125                    220        \n",
       "289 56  1   2               130                    221        \n",
       "290 56  1   2               120                    240        \n",
       "291 67  1   3               152                    212        \n",
       "292 55  0   2               132                    342        \n",
       "293 44  1   4               120                    169        \n",
       "294 63  1   4               140                    187        \n",
       "295 63  0   4               124                    197        \n",
       "296 41  1   2               120                    157        \n",
       "297 59  1   4               164                    176        \n",
       "298 57  0   4               140                    241        \n",
       "299 45  1   1               110                    264        \n",
       "300 68  1   4               144                    193        \n",
       "301 57  1   4               130                    131        \n",
       "302 57  0   2               130                    236        \n",
       "303 38  1   3               138                    175        \n",
       "    fasting_blood_sugar electrocardio_results max_heart_rate\n",
       "1   1                   2                     150           \n",
       "2   0                   2                     108           \n",
       "3   0                   2                     129           \n",
       "4   0                   0                     187           \n",
       "5   0                   2                     172           \n",
       "6   0                   0                     178           \n",
       "7   0                   2                     160           \n",
       "8   0                   0                     163           \n",
       "9   0                   2                     147           \n",
       "10  1                   2                     155           \n",
       "11  0                   0                     148           \n",
       "12  0                   2                     153           \n",
       "13  1                   2                     142           \n",
       "14  0                   0                     173           \n",
       "15  1                   0                     162           \n",
       "16  0                   0                     174           \n",
       "17  0                   0                     168           \n",
       "18  0                   0                     160           \n",
       "19  0                   0                     139           \n",
       "20  0                   0                     171           \n",
       "21  0                   2                     144           \n",
       "22  1                   2                     162           \n",
       "23  0                   2                     160           \n",
       "24  0                   2                     173           \n",
       "25  0                   2                     132           \n",
       "26  0                   0                     158           \n",
       "27  0                   0                     172           \n",
       "28  0                   0                     114           \n",
       "29  0                   0                     171           \n",
       "30  0                   2                     114           \n",
       "⋮   ⋮                   ⋮                     ⋮             \n",
       "274 0                   0                     125           \n",
       "275 0                   0                     162           \n",
       "276 0                   2                     155           \n",
       "277 0                   2                     152           \n",
       "278 0                   0                     152           \n",
       "279 0                   2                     164           \n",
       "280 0                   0                     131           \n",
       "281 0                   0                     143           \n",
       "282 0                   0                     179           \n",
       "283 0                   1                     130           \n",
       "284 0                   0                     174           \n",
       "285 0                   0                     161           \n",
       "286 0                   1                     140           \n",
       "287 1                   2                     146           \n",
       "288 0                   0                     144           \n",
       "289 0                   2                     163           \n",
       "290 0                   0                     169           \n",
       "291 0                   2                     150           \n",
       "292 0                   0                     166           \n",
       "293 0                   0                     144           \n",
       "294 0                   2                     144           \n",
       "295 0                   0                     136           \n",
       "296 0                   0                     182           \n",
       "297 1                   2                      90           \n",
       "298 0                   0                     123           \n",
       "299 0                   0                     132           \n",
       "300 1                   0                     141           \n",
       "301 0                   0                     115           \n",
       "302 0                   2                     174           \n",
       "303 0                   0                     173           \n",
       "    exercise_induced_angina ST_depression ST_peak_slope major_vessels thal\n",
       "1   0                       2.3           3             0.0           6.0 \n",
       "2   1                       1.5           2             3.0           3.0 \n",
       "3   1                       2.6           2             2.0           7.0 \n",
       "4   0                       3.5           3             0.0           3.0 \n",
       "5   0                       1.4           1             0.0           3.0 \n",
       "6   0                       0.8           1             0.0           3.0 \n",
       "7   0                       3.6           3             2.0           3.0 \n",
       "8   1                       0.6           1             0.0           3.0 \n",
       "9   0                       1.4           2             1.0           7.0 \n",
       "10  1                       3.1           3             0.0           7.0 \n",
       "11  0                       0.4           2             0.0           6.0 \n",
       "12  0                       1.3           2             0.0           3.0 \n",
       "13  1                       0.6           2             1.0           6.0 \n",
       "14  0                       0.0           1             0.0           7.0 \n",
       "15  0                       0.5           1             0.0           7.0 \n",
       "16  0                       1.6           1             0.0           3.0 \n",
       "17  0                       1.0           3             0.0           7.0 \n",
       "18  0                       1.2           1             0.0           3.0 \n",
       "19  0                       0.2           1             0.0           3.0 \n",
       "20  0                       0.6           1             0.0           3.0 \n",
       "21  1                       1.8           2             0.0           3.0 \n",
       "22  0                       1.0           1             0.0           3.0 \n",
       "23  0                       1.8           2             0.0           3.0 \n",
       "24  0                       3.2           1             2.0           7.0 \n",
       "25  1                       2.4           2             2.0           7.0 \n",
       "26  0                       1.6           2             0.0           3.0 \n",
       "27  0                       0.0           1             0.0           3.0 \n",
       "28  0                       2.6           3             0.0           3.0 \n",
       "29  0                       1.5           1             0.0           3.0 \n",
       "30  1                       2.0           2             0.0           7.0 \n",
       "⋮   ⋮                       ⋮             ⋮             ⋮             ⋮   \n",
       "274 0                       1.6           2             0.0           3.0 \n",
       "275 0                       0.8           1             2.0           3.0 \n",
       "276 0                       0.6           2             0.0           7.0 \n",
       "277 0                       0.0           2             1.0           3.0 \n",
       "278 0                       0.0           2             0.0           3.0 \n",
       "279 0                       0.0           1             1.0           3.0 \n",
       "280 0                       0.6           2             0.0           3.0 \n",
       "281 1                       3.0           2             1.0           7.0 \n",
       "282 0                       0.0           1             0.0           3.0 \n",
       "283 1                       2.0           2             1.0           7.0 \n",
       "284 0                       0.0           1             0.0           3.0 \n",
       "285 0                       0.0           1             1.0           7.0 \n",
       "286 0                       4.4           3             3.0           6.0 \n",
       "287 1                       2.8           2             2.0           6.0 \n",
       "288 0                       0.4           2             ?             7.0 \n",
       "289 0                       0.0           1             0.0           7.0 \n",
       "290 0                       0.0           3             0.0           3.0 \n",
       "291 0                       0.8           2             0.0           7.0 \n",
       "292 0                       1.2           1             0.0           3.0 \n",
       "293 1                       2.8           3             0.0           6.0 \n",
       "294 1                       4.0           1             2.0           7.0 \n",
       "295 1                       0.0           2             0.0           3.0 \n",
       "296 0                       0.0           1             0.0           3.0 \n",
       "297 0                       1.0           2             2.0           6.0 \n",
       "298 1                       0.2           2             0.0           7.0 \n",
       "299 0                       1.2           2             0.0           7.0 \n",
       "300 0                       3.4           2             2.0           7.0 \n",
       "301 1                       1.2           2             1.0           7.0 \n",
       "302 0                       0.0           2             1.0           3.0 \n",
       "303 0                       0.0           1             ?             3.0 \n",
       "    diagnosis\n",
       "1   0        \n",
       "2   2        \n",
       "3   1        \n",
       "4   0        \n",
       "5   0        \n",
       "6   0        \n",
       "7   3        \n",
       "8   0        \n",
       "9   2        \n",
       "10  1        \n",
       "11  0        \n",
       "12  0        \n",
       "13  2        \n",
       "14  0        \n",
       "15  0        \n",
       "16  0        \n",
       "17  1        \n",
       "18  0        \n",
       "19  0        \n",
       "20  0        \n",
       "21  0        \n",
       "22  0        \n",
       "23  1        \n",
       "24  3        \n",
       "25  4        \n",
       "26  0        \n",
       "27  0        \n",
       "28  0        \n",
       "29  0        \n",
       "30  3        \n",
       "⋮   ⋮        \n",
       "274 0        \n",
       "275 1        \n",
       "276 0        \n",
       "277 0        \n",
       "278 0        \n",
       "279 1        \n",
       "280 0        \n",
       "281 2        \n",
       "282 0        \n",
       "283 3        \n",
       "284 0        \n",
       "285 2        \n",
       "286 4        \n",
       "287 2        \n",
       "288 0        \n",
       "289 0        \n",
       "290 0        \n",
       "291 1        \n",
       "292 0        \n",
       "293 2        \n",
       "294 2        \n",
       "295 1        \n",
       "296 0        \n",
       "297 3        \n",
       "298 1        \n",
       "299 1        \n",
       "300 2        \n",
       "301 3        \n",
       "302 1        \n",
       "303 0        "
      ]
     },
     "metadata": {},
     "output_type": "display_data"
    }
   ],
   "source": [
    "heart_disease <- read_csv(\"heart_disease_data.csv\",\n",
    "                          col_names = c(\"age\", \"sex\", \"chest_pain_type\", \"resting_blood_pressure\", \"cholesterol\", \"fasting_blood_sugar\", \"electrocardio_results\", \"max_heart_rate\", \"exercise_induced_angina\", \"ST_depression\", \"ST_peak_slope\", \"major_vessels\", \"thal\", \"diagnosis\"))\n",
    "heart_disease"
   ]
  },
  {
   "cell_type": "markdown",
   "metadata": {},
   "source": [
    "### Table 2 - Cleansed Heart Disease Data Frame"
   ]
  },
  {
   "cell_type": "code",
   "execution_count": 4,
   "metadata": {},
   "outputs": [
    {
     "data": {
      "text/html": [
       "<table>\n",
       "<caption>A tibble: 303 × 6</caption>\n",
       "<thead>\n",
       "\t<tr><th scope=col>age</th><th scope=col>resting_blood_pressure</th><th scope=col>cholesterol</th><th scope=col>max_heart_rate</th><th scope=col>ST_depression</th><th scope=col>diagnosis</th></tr>\n",
       "\t<tr><th scope=col>&lt;dbl&gt;</th><th scope=col>&lt;dbl&gt;</th><th scope=col>&lt;dbl&gt;</th><th scope=col>&lt;dbl&gt;</th><th scope=col>&lt;dbl&gt;</th><th scope=col>&lt;fct&gt;</th></tr>\n",
       "</thead>\n",
       "<tbody>\n",
       "\t<tr><td>63</td><td>145</td><td>233</td><td>150</td><td>2.3</td><td>Absence </td></tr>\n",
       "\t<tr><td>67</td><td>160</td><td>286</td><td>108</td><td>1.5</td><td>Presence</td></tr>\n",
       "\t<tr><td>67</td><td>120</td><td>229</td><td>129</td><td>2.6</td><td>Presence</td></tr>\n",
       "\t<tr><td>37</td><td>130</td><td>250</td><td>187</td><td>3.5</td><td>Absence </td></tr>\n",
       "\t<tr><td>41</td><td>130</td><td>204</td><td>172</td><td>1.4</td><td>Absence </td></tr>\n",
       "\t<tr><td>56</td><td>120</td><td>236</td><td>178</td><td>0.8</td><td>Absence </td></tr>\n",
       "\t<tr><td>62</td><td>140</td><td>268</td><td>160</td><td>3.6</td><td>Presence</td></tr>\n",
       "\t<tr><td>57</td><td>120</td><td>354</td><td>163</td><td>0.6</td><td>Absence </td></tr>\n",
       "\t<tr><td>63</td><td>130</td><td>254</td><td>147</td><td>1.4</td><td>Presence</td></tr>\n",
       "\t<tr><td>53</td><td>140</td><td>203</td><td>155</td><td>3.1</td><td>Presence</td></tr>\n",
       "\t<tr><td>57</td><td>140</td><td>192</td><td>148</td><td>0.4</td><td>Absence </td></tr>\n",
       "\t<tr><td>56</td><td>140</td><td>294</td><td>153</td><td>1.3</td><td>Absence </td></tr>\n",
       "\t<tr><td>56</td><td>130</td><td>256</td><td>142</td><td>0.6</td><td>Presence</td></tr>\n",
       "\t<tr><td>44</td><td>120</td><td>263</td><td>173</td><td>0.0</td><td>Absence </td></tr>\n",
       "\t<tr><td>52</td><td>172</td><td>199</td><td>162</td><td>0.5</td><td>Absence </td></tr>\n",
       "\t<tr><td>57</td><td>150</td><td>168</td><td>174</td><td>1.6</td><td>Absence </td></tr>\n",
       "\t<tr><td>48</td><td>110</td><td>229</td><td>168</td><td>1.0</td><td>Presence</td></tr>\n",
       "\t<tr><td>54</td><td>140</td><td>239</td><td>160</td><td>1.2</td><td>Absence </td></tr>\n",
       "\t<tr><td>48</td><td>130</td><td>275</td><td>139</td><td>0.2</td><td>Absence </td></tr>\n",
       "\t<tr><td>49</td><td>130</td><td>266</td><td>171</td><td>0.6</td><td>Absence </td></tr>\n",
       "\t<tr><td>64</td><td>110</td><td>211</td><td>144</td><td>1.8</td><td>Absence </td></tr>\n",
       "\t<tr><td>58</td><td>150</td><td>283</td><td>162</td><td>1.0</td><td>Absence </td></tr>\n",
       "\t<tr><td>58</td><td>120</td><td>284</td><td>160</td><td>1.8</td><td>Presence</td></tr>\n",
       "\t<tr><td>58</td><td>132</td><td>224</td><td>173</td><td>3.2</td><td>Presence</td></tr>\n",
       "\t<tr><td>60</td><td>130</td><td>206</td><td>132</td><td>2.4</td><td>Presence</td></tr>\n",
       "\t<tr><td>50</td><td>120</td><td>219</td><td>158</td><td>1.6</td><td>Absence </td></tr>\n",
       "\t<tr><td>58</td><td>120</td><td>340</td><td>172</td><td>0.0</td><td>Absence </td></tr>\n",
       "\t<tr><td>66</td><td>150</td><td>226</td><td>114</td><td>2.6</td><td>Absence </td></tr>\n",
       "\t<tr><td>43</td><td>150</td><td>247</td><td>171</td><td>1.5</td><td>Absence </td></tr>\n",
       "\t<tr><td>40</td><td>110</td><td>167</td><td>114</td><td>2.0</td><td>Presence</td></tr>\n",
       "\t<tr><td>⋮</td><td>⋮</td><td>⋮</td><td>⋮</td><td>⋮</td><td>⋮</td></tr>\n",
       "\t<tr><td>71</td><td>112</td><td>149</td><td>125</td><td>1.6</td><td>Absence </td></tr>\n",
       "\t<tr><td>59</td><td>134</td><td>204</td><td>162</td><td>0.8</td><td>Presence</td></tr>\n",
       "\t<tr><td>64</td><td>170</td><td>227</td><td>155</td><td>0.6</td><td>Absence </td></tr>\n",
       "\t<tr><td>66</td><td>146</td><td>278</td><td>152</td><td>0.0</td><td>Absence </td></tr>\n",
       "\t<tr><td>39</td><td>138</td><td>220</td><td>152</td><td>0.0</td><td>Absence </td></tr>\n",
       "\t<tr><td>57</td><td>154</td><td>232</td><td>164</td><td>0.0</td><td>Presence</td></tr>\n",
       "\t<tr><td>58</td><td>130</td><td>197</td><td>131</td><td>0.6</td><td>Absence </td></tr>\n",
       "\t<tr><td>57</td><td>110</td><td>335</td><td>143</td><td>3.0</td><td>Presence</td></tr>\n",
       "\t<tr><td>47</td><td>130</td><td>253</td><td>179</td><td>0.0</td><td>Absence </td></tr>\n",
       "\t<tr><td>55</td><td>128</td><td>205</td><td>130</td><td>2.0</td><td>Presence</td></tr>\n",
       "\t<tr><td>35</td><td>122</td><td>192</td><td>174</td><td>0.0</td><td>Absence </td></tr>\n",
       "\t<tr><td>61</td><td>148</td><td>203</td><td>161</td><td>0.0</td><td>Presence</td></tr>\n",
       "\t<tr><td>58</td><td>114</td><td>318</td><td>140</td><td>4.4</td><td>Presence</td></tr>\n",
       "\t<tr><td>58</td><td>170</td><td>225</td><td>146</td><td>2.8</td><td>Presence</td></tr>\n",
       "\t<tr><td>58</td><td>125</td><td>220</td><td>144</td><td>0.4</td><td>Absence </td></tr>\n",
       "\t<tr><td>56</td><td>130</td><td>221</td><td>163</td><td>0.0</td><td>Absence </td></tr>\n",
       "\t<tr><td>56</td><td>120</td><td>240</td><td>169</td><td>0.0</td><td>Absence </td></tr>\n",
       "\t<tr><td>67</td><td>152</td><td>212</td><td>150</td><td>0.8</td><td>Presence</td></tr>\n",
       "\t<tr><td>55</td><td>132</td><td>342</td><td>166</td><td>1.2</td><td>Absence </td></tr>\n",
       "\t<tr><td>44</td><td>120</td><td>169</td><td>144</td><td>2.8</td><td>Presence</td></tr>\n",
       "\t<tr><td>63</td><td>140</td><td>187</td><td>144</td><td>4.0</td><td>Presence</td></tr>\n",
       "\t<tr><td>63</td><td>124</td><td>197</td><td>136</td><td>0.0</td><td>Presence</td></tr>\n",
       "\t<tr><td>41</td><td>120</td><td>157</td><td>182</td><td>0.0</td><td>Absence </td></tr>\n",
       "\t<tr><td>59</td><td>164</td><td>176</td><td> 90</td><td>1.0</td><td>Presence</td></tr>\n",
       "\t<tr><td>57</td><td>140</td><td>241</td><td>123</td><td>0.2</td><td>Presence</td></tr>\n",
       "\t<tr><td>45</td><td>110</td><td>264</td><td>132</td><td>1.2</td><td>Presence</td></tr>\n",
       "\t<tr><td>68</td><td>144</td><td>193</td><td>141</td><td>3.4</td><td>Presence</td></tr>\n",
       "\t<tr><td>57</td><td>130</td><td>131</td><td>115</td><td>1.2</td><td>Presence</td></tr>\n",
       "\t<tr><td>57</td><td>130</td><td>236</td><td>174</td><td>0.0</td><td>Presence</td></tr>\n",
       "\t<tr><td>38</td><td>138</td><td>175</td><td>173</td><td>0.0</td><td>Absence </td></tr>\n",
       "</tbody>\n",
       "</table>\n"
      ],
      "text/latex": [
       "A tibble: 303 × 6\n",
       "\\begin{tabular}{llllll}\n",
       " age & resting\\_blood\\_pressure & cholesterol & max\\_heart\\_rate & ST\\_depression & diagnosis\\\\\n",
       " <dbl> & <dbl> & <dbl> & <dbl> & <dbl> & <fct>\\\\\n",
       "\\hline\n",
       "\t 63 & 145 & 233 & 150 & 2.3 & Absence \\\\\n",
       "\t 67 & 160 & 286 & 108 & 1.5 & Presence\\\\\n",
       "\t 67 & 120 & 229 & 129 & 2.6 & Presence\\\\\n",
       "\t 37 & 130 & 250 & 187 & 3.5 & Absence \\\\\n",
       "\t 41 & 130 & 204 & 172 & 1.4 & Absence \\\\\n",
       "\t 56 & 120 & 236 & 178 & 0.8 & Absence \\\\\n",
       "\t 62 & 140 & 268 & 160 & 3.6 & Presence\\\\\n",
       "\t 57 & 120 & 354 & 163 & 0.6 & Absence \\\\\n",
       "\t 63 & 130 & 254 & 147 & 1.4 & Presence\\\\\n",
       "\t 53 & 140 & 203 & 155 & 3.1 & Presence\\\\\n",
       "\t 57 & 140 & 192 & 148 & 0.4 & Absence \\\\\n",
       "\t 56 & 140 & 294 & 153 & 1.3 & Absence \\\\\n",
       "\t 56 & 130 & 256 & 142 & 0.6 & Presence\\\\\n",
       "\t 44 & 120 & 263 & 173 & 0.0 & Absence \\\\\n",
       "\t 52 & 172 & 199 & 162 & 0.5 & Absence \\\\\n",
       "\t 57 & 150 & 168 & 174 & 1.6 & Absence \\\\\n",
       "\t 48 & 110 & 229 & 168 & 1.0 & Presence\\\\\n",
       "\t 54 & 140 & 239 & 160 & 1.2 & Absence \\\\\n",
       "\t 48 & 130 & 275 & 139 & 0.2 & Absence \\\\\n",
       "\t 49 & 130 & 266 & 171 & 0.6 & Absence \\\\\n",
       "\t 64 & 110 & 211 & 144 & 1.8 & Absence \\\\\n",
       "\t 58 & 150 & 283 & 162 & 1.0 & Absence \\\\\n",
       "\t 58 & 120 & 284 & 160 & 1.8 & Presence\\\\\n",
       "\t 58 & 132 & 224 & 173 & 3.2 & Presence\\\\\n",
       "\t 60 & 130 & 206 & 132 & 2.4 & Presence\\\\\n",
       "\t 50 & 120 & 219 & 158 & 1.6 & Absence \\\\\n",
       "\t 58 & 120 & 340 & 172 & 0.0 & Absence \\\\\n",
       "\t 66 & 150 & 226 & 114 & 2.6 & Absence \\\\\n",
       "\t 43 & 150 & 247 & 171 & 1.5 & Absence \\\\\n",
       "\t 40 & 110 & 167 & 114 & 2.0 & Presence\\\\\n",
       "\t ⋮ & ⋮ & ⋮ & ⋮ & ⋮ & ⋮\\\\\n",
       "\t 71 & 112 & 149 & 125 & 1.6 & Absence \\\\\n",
       "\t 59 & 134 & 204 & 162 & 0.8 & Presence\\\\\n",
       "\t 64 & 170 & 227 & 155 & 0.6 & Absence \\\\\n",
       "\t 66 & 146 & 278 & 152 & 0.0 & Absence \\\\\n",
       "\t 39 & 138 & 220 & 152 & 0.0 & Absence \\\\\n",
       "\t 57 & 154 & 232 & 164 & 0.0 & Presence\\\\\n",
       "\t 58 & 130 & 197 & 131 & 0.6 & Absence \\\\\n",
       "\t 57 & 110 & 335 & 143 & 3.0 & Presence\\\\\n",
       "\t 47 & 130 & 253 & 179 & 0.0 & Absence \\\\\n",
       "\t 55 & 128 & 205 & 130 & 2.0 & Presence\\\\\n",
       "\t 35 & 122 & 192 & 174 & 0.0 & Absence \\\\\n",
       "\t 61 & 148 & 203 & 161 & 0.0 & Presence\\\\\n",
       "\t 58 & 114 & 318 & 140 & 4.4 & Presence\\\\\n",
       "\t 58 & 170 & 225 & 146 & 2.8 & Presence\\\\\n",
       "\t 58 & 125 & 220 & 144 & 0.4 & Absence \\\\\n",
       "\t 56 & 130 & 221 & 163 & 0.0 & Absence \\\\\n",
       "\t 56 & 120 & 240 & 169 & 0.0 & Absence \\\\\n",
       "\t 67 & 152 & 212 & 150 & 0.8 & Presence\\\\\n",
       "\t 55 & 132 & 342 & 166 & 1.2 & Absence \\\\\n",
       "\t 44 & 120 & 169 & 144 & 2.8 & Presence\\\\\n",
       "\t 63 & 140 & 187 & 144 & 4.0 & Presence\\\\\n",
       "\t 63 & 124 & 197 & 136 & 0.0 & Presence\\\\\n",
       "\t 41 & 120 & 157 & 182 & 0.0 & Absence \\\\\n",
       "\t 59 & 164 & 176 &  90 & 1.0 & Presence\\\\\n",
       "\t 57 & 140 & 241 & 123 & 0.2 & Presence\\\\\n",
       "\t 45 & 110 & 264 & 132 & 1.2 & Presence\\\\\n",
       "\t 68 & 144 & 193 & 141 & 3.4 & Presence\\\\\n",
       "\t 57 & 130 & 131 & 115 & 1.2 & Presence\\\\\n",
       "\t 57 & 130 & 236 & 174 & 0.0 & Presence\\\\\n",
       "\t 38 & 138 & 175 & 173 & 0.0 & Absence \\\\\n",
       "\\end{tabular}\n"
      ],
      "text/markdown": [
       "\n",
       "A tibble: 303 × 6\n",
       "\n",
       "| age &lt;dbl&gt; | resting_blood_pressure &lt;dbl&gt; | cholesterol &lt;dbl&gt; | max_heart_rate &lt;dbl&gt; | ST_depression &lt;dbl&gt; | diagnosis &lt;fct&gt; |\n",
       "|---|---|---|---|---|---|\n",
       "| 63 | 145 | 233 | 150 | 2.3 | Absence  |\n",
       "| 67 | 160 | 286 | 108 | 1.5 | Presence |\n",
       "| 67 | 120 | 229 | 129 | 2.6 | Presence |\n",
       "| 37 | 130 | 250 | 187 | 3.5 | Absence  |\n",
       "| 41 | 130 | 204 | 172 | 1.4 | Absence  |\n",
       "| 56 | 120 | 236 | 178 | 0.8 | Absence  |\n",
       "| 62 | 140 | 268 | 160 | 3.6 | Presence |\n",
       "| 57 | 120 | 354 | 163 | 0.6 | Absence  |\n",
       "| 63 | 130 | 254 | 147 | 1.4 | Presence |\n",
       "| 53 | 140 | 203 | 155 | 3.1 | Presence |\n",
       "| 57 | 140 | 192 | 148 | 0.4 | Absence  |\n",
       "| 56 | 140 | 294 | 153 | 1.3 | Absence  |\n",
       "| 56 | 130 | 256 | 142 | 0.6 | Presence |\n",
       "| 44 | 120 | 263 | 173 | 0.0 | Absence  |\n",
       "| 52 | 172 | 199 | 162 | 0.5 | Absence  |\n",
       "| 57 | 150 | 168 | 174 | 1.6 | Absence  |\n",
       "| 48 | 110 | 229 | 168 | 1.0 | Presence |\n",
       "| 54 | 140 | 239 | 160 | 1.2 | Absence  |\n",
       "| 48 | 130 | 275 | 139 | 0.2 | Absence  |\n",
       "| 49 | 130 | 266 | 171 | 0.6 | Absence  |\n",
       "| 64 | 110 | 211 | 144 | 1.8 | Absence  |\n",
       "| 58 | 150 | 283 | 162 | 1.0 | Absence  |\n",
       "| 58 | 120 | 284 | 160 | 1.8 | Presence |\n",
       "| 58 | 132 | 224 | 173 | 3.2 | Presence |\n",
       "| 60 | 130 | 206 | 132 | 2.4 | Presence |\n",
       "| 50 | 120 | 219 | 158 | 1.6 | Absence  |\n",
       "| 58 | 120 | 340 | 172 | 0.0 | Absence  |\n",
       "| 66 | 150 | 226 | 114 | 2.6 | Absence  |\n",
       "| 43 | 150 | 247 | 171 | 1.5 | Absence  |\n",
       "| 40 | 110 | 167 | 114 | 2.0 | Presence |\n",
       "| ⋮ | ⋮ | ⋮ | ⋮ | ⋮ | ⋮ |\n",
       "| 71 | 112 | 149 | 125 | 1.6 | Absence  |\n",
       "| 59 | 134 | 204 | 162 | 0.8 | Presence |\n",
       "| 64 | 170 | 227 | 155 | 0.6 | Absence  |\n",
       "| 66 | 146 | 278 | 152 | 0.0 | Absence  |\n",
       "| 39 | 138 | 220 | 152 | 0.0 | Absence  |\n",
       "| 57 | 154 | 232 | 164 | 0.0 | Presence |\n",
       "| 58 | 130 | 197 | 131 | 0.6 | Absence  |\n",
       "| 57 | 110 | 335 | 143 | 3.0 | Presence |\n",
       "| 47 | 130 | 253 | 179 | 0.0 | Absence  |\n",
       "| 55 | 128 | 205 | 130 | 2.0 | Presence |\n",
       "| 35 | 122 | 192 | 174 | 0.0 | Absence  |\n",
       "| 61 | 148 | 203 | 161 | 0.0 | Presence |\n",
       "| 58 | 114 | 318 | 140 | 4.4 | Presence |\n",
       "| 58 | 170 | 225 | 146 | 2.8 | Presence |\n",
       "| 58 | 125 | 220 | 144 | 0.4 | Absence  |\n",
       "| 56 | 130 | 221 | 163 | 0.0 | Absence  |\n",
       "| 56 | 120 | 240 | 169 | 0.0 | Absence  |\n",
       "| 67 | 152 | 212 | 150 | 0.8 | Presence |\n",
       "| 55 | 132 | 342 | 166 | 1.2 | Absence  |\n",
       "| 44 | 120 | 169 | 144 | 2.8 | Presence |\n",
       "| 63 | 140 | 187 | 144 | 4.0 | Presence |\n",
       "| 63 | 124 | 197 | 136 | 0.0 | Presence |\n",
       "| 41 | 120 | 157 | 182 | 0.0 | Absence  |\n",
       "| 59 | 164 | 176 |  90 | 1.0 | Presence |\n",
       "| 57 | 140 | 241 | 123 | 0.2 | Presence |\n",
       "| 45 | 110 | 264 | 132 | 1.2 | Presence |\n",
       "| 68 | 144 | 193 | 141 | 3.4 | Presence |\n",
       "| 57 | 130 | 131 | 115 | 1.2 | Presence |\n",
       "| 57 | 130 | 236 | 174 | 0.0 | Presence |\n",
       "| 38 | 138 | 175 | 173 | 0.0 | Absence  |\n",
       "\n"
      ],
      "text/plain": [
       "    age resting_blood_pressure cholesterol max_heart_rate ST_depression\n",
       "1   63  145                    233         150            2.3          \n",
       "2   67  160                    286         108            1.5          \n",
       "3   67  120                    229         129            2.6          \n",
       "4   37  130                    250         187            3.5          \n",
       "5   41  130                    204         172            1.4          \n",
       "6   56  120                    236         178            0.8          \n",
       "7   62  140                    268         160            3.6          \n",
       "8   57  120                    354         163            0.6          \n",
       "9   63  130                    254         147            1.4          \n",
       "10  53  140                    203         155            3.1          \n",
       "11  57  140                    192         148            0.4          \n",
       "12  56  140                    294         153            1.3          \n",
       "13  56  130                    256         142            0.6          \n",
       "14  44  120                    263         173            0.0          \n",
       "15  52  172                    199         162            0.5          \n",
       "16  57  150                    168         174            1.6          \n",
       "17  48  110                    229         168            1.0          \n",
       "18  54  140                    239         160            1.2          \n",
       "19  48  130                    275         139            0.2          \n",
       "20  49  130                    266         171            0.6          \n",
       "21  64  110                    211         144            1.8          \n",
       "22  58  150                    283         162            1.0          \n",
       "23  58  120                    284         160            1.8          \n",
       "24  58  132                    224         173            3.2          \n",
       "25  60  130                    206         132            2.4          \n",
       "26  50  120                    219         158            1.6          \n",
       "27  58  120                    340         172            0.0          \n",
       "28  66  150                    226         114            2.6          \n",
       "29  43  150                    247         171            1.5          \n",
       "30  40  110                    167         114            2.0          \n",
       "⋮   ⋮   ⋮                      ⋮           ⋮              ⋮            \n",
       "274 71  112                    149         125            1.6          \n",
       "275 59  134                    204         162            0.8          \n",
       "276 64  170                    227         155            0.6          \n",
       "277 66  146                    278         152            0.0          \n",
       "278 39  138                    220         152            0.0          \n",
       "279 57  154                    232         164            0.0          \n",
       "280 58  130                    197         131            0.6          \n",
       "281 57  110                    335         143            3.0          \n",
       "282 47  130                    253         179            0.0          \n",
       "283 55  128                    205         130            2.0          \n",
       "284 35  122                    192         174            0.0          \n",
       "285 61  148                    203         161            0.0          \n",
       "286 58  114                    318         140            4.4          \n",
       "287 58  170                    225         146            2.8          \n",
       "288 58  125                    220         144            0.4          \n",
       "289 56  130                    221         163            0.0          \n",
       "290 56  120                    240         169            0.0          \n",
       "291 67  152                    212         150            0.8          \n",
       "292 55  132                    342         166            1.2          \n",
       "293 44  120                    169         144            2.8          \n",
       "294 63  140                    187         144            4.0          \n",
       "295 63  124                    197         136            0.0          \n",
       "296 41  120                    157         182            0.0          \n",
       "297 59  164                    176          90            1.0          \n",
       "298 57  140                    241         123            0.2          \n",
       "299 45  110                    264         132            1.2          \n",
       "300 68  144                    193         141            3.4          \n",
       "301 57  130                    131         115            1.2          \n",
       "302 57  130                    236         174            0.0          \n",
       "303 38  138                    175         173            0.0          \n",
       "    diagnosis\n",
       "1   Absence  \n",
       "2   Presence \n",
       "3   Presence \n",
       "4   Absence  \n",
       "5   Absence  \n",
       "6   Absence  \n",
       "7   Presence \n",
       "8   Absence  \n",
       "9   Presence \n",
       "10  Presence \n",
       "11  Absence  \n",
       "12  Absence  \n",
       "13  Presence \n",
       "14  Absence  \n",
       "15  Absence  \n",
       "16  Absence  \n",
       "17  Presence \n",
       "18  Absence  \n",
       "19  Absence  \n",
       "20  Absence  \n",
       "21  Absence  \n",
       "22  Absence  \n",
       "23  Presence \n",
       "24  Presence \n",
       "25  Presence \n",
       "26  Absence  \n",
       "27  Absence  \n",
       "28  Absence  \n",
       "29  Absence  \n",
       "30  Presence \n",
       "⋮   ⋮        \n",
       "274 Absence  \n",
       "275 Presence \n",
       "276 Absence  \n",
       "277 Absence  \n",
       "278 Absence  \n",
       "279 Presence \n",
       "280 Absence  \n",
       "281 Presence \n",
       "282 Absence  \n",
       "283 Presence \n",
       "284 Absence  \n",
       "285 Presence \n",
       "286 Presence \n",
       "287 Presence \n",
       "288 Absence  \n",
       "289 Absence  \n",
       "290 Absence  \n",
       "291 Presence \n",
       "292 Absence  \n",
       "293 Presence \n",
       "294 Presence \n",
       "295 Presence \n",
       "296 Absence  \n",
       "297 Presence \n",
       "298 Presence \n",
       "299 Presence \n",
       "300 Presence \n",
       "301 Presence \n",
       "302 Presence \n",
       "303 Absence  "
      ]
     },
     "metadata": {},
     "output_type": "display_data"
    }
   ],
   "source": [
    "heart_disease <- heart_disease %>%\n",
    "    mutate(diagnosis = as.factor(ifelse(diagnosis == 0, \"Absence\", \"Presence\")))\n",
    "\n",
    "heart_disease[heart_disease == \"?\"] <- NA\n",
    "\n",
    "heart_disease <- heart_disease %>%\n",
    "    select(age, resting_blood_pressure, cholesterol, max_heart_rate, ST_depression, diagnosis)\n",
    "\n",
    "heart_disease <- na.omit(heart_disease)\n",
    "\n",
    "heart_disease"
   ]
  },
  {
   "cell_type": "markdown",
   "metadata": {},
   "source": [
    "I then split the data into training (75%) and testing (25%) datasets using the <i>initial_split()</i> function."
   ]
  },
  {
   "cell_type": "code",
   "execution_count": 56,
   "metadata": {},
   "outputs": [],
   "source": [
    "heart_disease_split <- initial_split(heart_disease, prop = 0.75, strata = diagnosis)\n",
    "heart_disease_train <- training(heart_disease_split)\n",
    "heart_disease_test <- testing(heart_disease_split)"
   ]
  },
  {
   "cell_type": "markdown",
   "metadata": {},
   "source": [
    "### Table 3 - Heart Disease Training Dataset"
   ]
  },
  {
   "cell_type": "code",
   "execution_count": 6,
   "metadata": {},
   "outputs": [
    {
     "data": {
      "text/html": [
       "<table>\n",
       "<caption>A tibble: 228 × 6</caption>\n",
       "<thead>\n",
       "\t<tr><th scope=col>age</th><th scope=col>resting_blood_pressure</th><th scope=col>cholesterol</th><th scope=col>max_heart_rate</th><th scope=col>ST_depression</th><th scope=col>diagnosis</th></tr>\n",
       "\t<tr><th scope=col>&lt;dbl&gt;</th><th scope=col>&lt;dbl&gt;</th><th scope=col>&lt;dbl&gt;</th><th scope=col>&lt;dbl&gt;</th><th scope=col>&lt;dbl&gt;</th><th scope=col>&lt;fct&gt;</th></tr>\n",
       "</thead>\n",
       "<tbody>\n",
       "\t<tr><td>63</td><td>145</td><td>233</td><td>150</td><td>2.3</td><td>Absence </td></tr>\n",
       "\t<tr><td>67</td><td>160</td><td>286</td><td>108</td><td>1.5</td><td>Presence</td></tr>\n",
       "\t<tr><td>37</td><td>130</td><td>250</td><td>187</td><td>3.5</td><td>Absence </td></tr>\n",
       "\t<tr><td>41</td><td>130</td><td>204</td><td>172</td><td>1.4</td><td>Absence </td></tr>\n",
       "\t<tr><td>56</td><td>120</td><td>236</td><td>178</td><td>0.8</td><td>Absence </td></tr>\n",
       "\t<tr><td>62</td><td>140</td><td>268</td><td>160</td><td>3.6</td><td>Presence</td></tr>\n",
       "\t<tr><td>63</td><td>130</td><td>254</td><td>147</td><td>1.4</td><td>Presence</td></tr>\n",
       "\t<tr><td>53</td><td>140</td><td>203</td><td>155</td><td>3.1</td><td>Presence</td></tr>\n",
       "\t<tr><td>57</td><td>140</td><td>192</td><td>148</td><td>0.4</td><td>Absence </td></tr>\n",
       "\t<tr><td>56</td><td>140</td><td>294</td><td>153</td><td>1.3</td><td>Absence </td></tr>\n",
       "\t<tr><td>56</td><td>130</td><td>256</td><td>142</td><td>0.6</td><td>Presence</td></tr>\n",
       "\t<tr><td>44</td><td>120</td><td>263</td><td>173</td><td>0.0</td><td>Absence </td></tr>\n",
       "\t<tr><td>52</td><td>172</td><td>199</td><td>162</td><td>0.5</td><td>Absence </td></tr>\n",
       "\t<tr><td>57</td><td>150</td><td>168</td><td>174</td><td>1.6</td><td>Absence </td></tr>\n",
       "\t<tr><td>48</td><td>110</td><td>229</td><td>168</td><td>1.0</td><td>Presence</td></tr>\n",
       "\t<tr><td>54</td><td>140</td><td>239</td><td>160</td><td>1.2</td><td>Absence </td></tr>\n",
       "\t<tr><td>49</td><td>130</td><td>266</td><td>171</td><td>0.6</td><td>Absence </td></tr>\n",
       "\t<tr><td>64</td><td>110</td><td>211</td><td>144</td><td>1.8</td><td>Absence </td></tr>\n",
       "\t<tr><td>58</td><td>120</td><td>284</td><td>160</td><td>1.8</td><td>Presence</td></tr>\n",
       "\t<tr><td>50</td><td>120</td><td>219</td><td>158</td><td>1.6</td><td>Absence </td></tr>\n",
       "\t<tr><td>58</td><td>120</td><td>340</td><td>172</td><td>0.0</td><td>Absence </td></tr>\n",
       "\t<tr><td>60</td><td>117</td><td>230</td><td>160</td><td>1.4</td><td>Presence</td></tr>\n",
       "\t<tr><td>64</td><td>140</td><td>335</td><td>158</td><td>0.0</td><td>Presence</td></tr>\n",
       "\t<tr><td>59</td><td>135</td><td>234</td><td>161</td><td>0.5</td><td>Absence </td></tr>\n",
       "\t<tr><td>42</td><td>140</td><td>226</td><td>178</td><td>0.0</td><td>Absence </td></tr>\n",
       "\t<tr><td>43</td><td>120</td><td>177</td><td>120</td><td>2.5</td><td>Presence</td></tr>\n",
       "\t<tr><td>57</td><td>150</td><td>276</td><td>112</td><td>0.6</td><td>Presence</td></tr>\n",
       "\t<tr><td>55</td><td>132</td><td>353</td><td>132</td><td>1.2</td><td>Presence</td></tr>\n",
       "\t<tr><td>61</td><td>150</td><td>243</td><td>137</td><td>1.0</td><td>Absence </td></tr>\n",
       "\t<tr><td>40</td><td>140</td><td>199</td><td>178</td><td>1.4</td><td>Absence </td></tr>\n",
       "\t<tr><td>⋮</td><td>⋮</td><td>⋮</td><td>⋮</td><td>⋮</td><td>⋮</td></tr>\n",
       "\t<tr><td>44</td><td>120</td><td>226</td><td>169</td><td>0.0</td><td>Absence </td></tr>\n",
       "\t<tr><td>61</td><td>138</td><td>166</td><td>125</td><td>3.6</td><td>Presence</td></tr>\n",
       "\t<tr><td>52</td><td>128</td><td>204</td><td>156</td><td>1.0</td><td>Presence</td></tr>\n",
       "\t<tr><td>59</td><td>126</td><td>218</td><td>134</td><td>2.2</td><td>Presence</td></tr>\n",
       "\t<tr><td>40</td><td>152</td><td>223</td><td>181</td><td>0.0</td><td>Presence</td></tr>\n",
       "\t<tr><td>42</td><td>130</td><td>180</td><td>150</td><td>0.0</td><td>Absence </td></tr>\n",
       "\t<tr><td>71</td><td>112</td><td>149</td><td>125</td><td>1.6</td><td>Absence </td></tr>\n",
       "\t<tr><td>59</td><td>134</td><td>204</td><td>162</td><td>0.8</td><td>Presence</td></tr>\n",
       "\t<tr><td>64</td><td>170</td><td>227</td><td>155</td><td>0.6</td><td>Absence </td></tr>\n",
       "\t<tr><td>66</td><td>146</td><td>278</td><td>152</td><td>0.0</td><td>Absence </td></tr>\n",
       "\t<tr><td>39</td><td>138</td><td>220</td><td>152</td><td>0.0</td><td>Absence </td></tr>\n",
       "\t<tr><td>57</td><td>154</td><td>232</td><td>164</td><td>0.0</td><td>Presence</td></tr>\n",
       "\t<tr><td>58</td><td>130</td><td>197</td><td>131</td><td>0.6</td><td>Absence </td></tr>\n",
       "\t<tr><td>57</td><td>110</td><td>335</td><td>143</td><td>3.0</td><td>Presence</td></tr>\n",
       "\t<tr><td>47</td><td>130</td><td>253</td><td>179</td><td>0.0</td><td>Absence </td></tr>\n",
       "\t<tr><td>55</td><td>128</td><td>205</td><td>130</td><td>2.0</td><td>Presence</td></tr>\n",
       "\t<tr><td>61</td><td>148</td><td>203</td><td>161</td><td>0.0</td><td>Presence</td></tr>\n",
       "\t<tr><td>58</td><td>170</td><td>225</td><td>146</td><td>2.8</td><td>Presence</td></tr>\n",
       "\t<tr><td>58</td><td>125</td><td>220</td><td>144</td><td>0.4</td><td>Absence </td></tr>\n",
       "\t<tr><td>56</td><td>120</td><td>240</td><td>169</td><td>0.0</td><td>Absence </td></tr>\n",
       "\t<tr><td>67</td><td>152</td><td>212</td><td>150</td><td>0.8</td><td>Presence</td></tr>\n",
       "\t<tr><td>55</td><td>132</td><td>342</td><td>166</td><td>1.2</td><td>Absence </td></tr>\n",
       "\t<tr><td>44</td><td>120</td><td>169</td><td>144</td><td>2.8</td><td>Presence</td></tr>\n",
       "\t<tr><td>63</td><td>124</td><td>197</td><td>136</td><td>0.0</td><td>Presence</td></tr>\n",
       "\t<tr><td>41</td><td>120</td><td>157</td><td>182</td><td>0.0</td><td>Absence </td></tr>\n",
       "\t<tr><td>59</td><td>164</td><td>176</td><td> 90</td><td>1.0</td><td>Presence</td></tr>\n",
       "\t<tr><td>45</td><td>110</td><td>264</td><td>132</td><td>1.2</td><td>Presence</td></tr>\n",
       "\t<tr><td>68</td><td>144</td><td>193</td><td>141</td><td>3.4</td><td>Presence</td></tr>\n",
       "\t<tr><td>57</td><td>130</td><td>131</td><td>115</td><td>1.2</td><td>Presence</td></tr>\n",
       "\t<tr><td>57</td><td>130</td><td>236</td><td>174</td><td>0.0</td><td>Presence</td></tr>\n",
       "</tbody>\n",
       "</table>\n"
      ],
      "text/latex": [
       "A tibble: 228 × 6\n",
       "\\begin{tabular}{llllll}\n",
       " age & resting\\_blood\\_pressure & cholesterol & max\\_heart\\_rate & ST\\_depression & diagnosis\\\\\n",
       " <dbl> & <dbl> & <dbl> & <dbl> & <dbl> & <fct>\\\\\n",
       "\\hline\n",
       "\t 63 & 145 & 233 & 150 & 2.3 & Absence \\\\\n",
       "\t 67 & 160 & 286 & 108 & 1.5 & Presence\\\\\n",
       "\t 37 & 130 & 250 & 187 & 3.5 & Absence \\\\\n",
       "\t 41 & 130 & 204 & 172 & 1.4 & Absence \\\\\n",
       "\t 56 & 120 & 236 & 178 & 0.8 & Absence \\\\\n",
       "\t 62 & 140 & 268 & 160 & 3.6 & Presence\\\\\n",
       "\t 63 & 130 & 254 & 147 & 1.4 & Presence\\\\\n",
       "\t 53 & 140 & 203 & 155 & 3.1 & Presence\\\\\n",
       "\t 57 & 140 & 192 & 148 & 0.4 & Absence \\\\\n",
       "\t 56 & 140 & 294 & 153 & 1.3 & Absence \\\\\n",
       "\t 56 & 130 & 256 & 142 & 0.6 & Presence\\\\\n",
       "\t 44 & 120 & 263 & 173 & 0.0 & Absence \\\\\n",
       "\t 52 & 172 & 199 & 162 & 0.5 & Absence \\\\\n",
       "\t 57 & 150 & 168 & 174 & 1.6 & Absence \\\\\n",
       "\t 48 & 110 & 229 & 168 & 1.0 & Presence\\\\\n",
       "\t 54 & 140 & 239 & 160 & 1.2 & Absence \\\\\n",
       "\t 49 & 130 & 266 & 171 & 0.6 & Absence \\\\\n",
       "\t 64 & 110 & 211 & 144 & 1.8 & Absence \\\\\n",
       "\t 58 & 120 & 284 & 160 & 1.8 & Presence\\\\\n",
       "\t 50 & 120 & 219 & 158 & 1.6 & Absence \\\\\n",
       "\t 58 & 120 & 340 & 172 & 0.0 & Absence \\\\\n",
       "\t 60 & 117 & 230 & 160 & 1.4 & Presence\\\\\n",
       "\t 64 & 140 & 335 & 158 & 0.0 & Presence\\\\\n",
       "\t 59 & 135 & 234 & 161 & 0.5 & Absence \\\\\n",
       "\t 42 & 140 & 226 & 178 & 0.0 & Absence \\\\\n",
       "\t 43 & 120 & 177 & 120 & 2.5 & Presence\\\\\n",
       "\t 57 & 150 & 276 & 112 & 0.6 & Presence\\\\\n",
       "\t 55 & 132 & 353 & 132 & 1.2 & Presence\\\\\n",
       "\t 61 & 150 & 243 & 137 & 1.0 & Absence \\\\\n",
       "\t 40 & 140 & 199 & 178 & 1.4 & Absence \\\\\n",
       "\t ⋮ & ⋮ & ⋮ & ⋮ & ⋮ & ⋮\\\\\n",
       "\t 44 & 120 & 226 & 169 & 0.0 & Absence \\\\\n",
       "\t 61 & 138 & 166 & 125 & 3.6 & Presence\\\\\n",
       "\t 52 & 128 & 204 & 156 & 1.0 & Presence\\\\\n",
       "\t 59 & 126 & 218 & 134 & 2.2 & Presence\\\\\n",
       "\t 40 & 152 & 223 & 181 & 0.0 & Presence\\\\\n",
       "\t 42 & 130 & 180 & 150 & 0.0 & Absence \\\\\n",
       "\t 71 & 112 & 149 & 125 & 1.6 & Absence \\\\\n",
       "\t 59 & 134 & 204 & 162 & 0.8 & Presence\\\\\n",
       "\t 64 & 170 & 227 & 155 & 0.6 & Absence \\\\\n",
       "\t 66 & 146 & 278 & 152 & 0.0 & Absence \\\\\n",
       "\t 39 & 138 & 220 & 152 & 0.0 & Absence \\\\\n",
       "\t 57 & 154 & 232 & 164 & 0.0 & Presence\\\\\n",
       "\t 58 & 130 & 197 & 131 & 0.6 & Absence \\\\\n",
       "\t 57 & 110 & 335 & 143 & 3.0 & Presence\\\\\n",
       "\t 47 & 130 & 253 & 179 & 0.0 & Absence \\\\\n",
       "\t 55 & 128 & 205 & 130 & 2.0 & Presence\\\\\n",
       "\t 61 & 148 & 203 & 161 & 0.0 & Presence\\\\\n",
       "\t 58 & 170 & 225 & 146 & 2.8 & Presence\\\\\n",
       "\t 58 & 125 & 220 & 144 & 0.4 & Absence \\\\\n",
       "\t 56 & 120 & 240 & 169 & 0.0 & Absence \\\\\n",
       "\t 67 & 152 & 212 & 150 & 0.8 & Presence\\\\\n",
       "\t 55 & 132 & 342 & 166 & 1.2 & Absence \\\\\n",
       "\t 44 & 120 & 169 & 144 & 2.8 & Presence\\\\\n",
       "\t 63 & 124 & 197 & 136 & 0.0 & Presence\\\\\n",
       "\t 41 & 120 & 157 & 182 & 0.0 & Absence \\\\\n",
       "\t 59 & 164 & 176 &  90 & 1.0 & Presence\\\\\n",
       "\t 45 & 110 & 264 & 132 & 1.2 & Presence\\\\\n",
       "\t 68 & 144 & 193 & 141 & 3.4 & Presence\\\\\n",
       "\t 57 & 130 & 131 & 115 & 1.2 & Presence\\\\\n",
       "\t 57 & 130 & 236 & 174 & 0.0 & Presence\\\\\n",
       "\\end{tabular}\n"
      ],
      "text/markdown": [
       "\n",
       "A tibble: 228 × 6\n",
       "\n",
       "| age &lt;dbl&gt; | resting_blood_pressure &lt;dbl&gt; | cholesterol &lt;dbl&gt; | max_heart_rate &lt;dbl&gt; | ST_depression &lt;dbl&gt; | diagnosis &lt;fct&gt; |\n",
       "|---|---|---|---|---|---|\n",
       "| 63 | 145 | 233 | 150 | 2.3 | Absence  |\n",
       "| 67 | 160 | 286 | 108 | 1.5 | Presence |\n",
       "| 37 | 130 | 250 | 187 | 3.5 | Absence  |\n",
       "| 41 | 130 | 204 | 172 | 1.4 | Absence  |\n",
       "| 56 | 120 | 236 | 178 | 0.8 | Absence  |\n",
       "| 62 | 140 | 268 | 160 | 3.6 | Presence |\n",
       "| 63 | 130 | 254 | 147 | 1.4 | Presence |\n",
       "| 53 | 140 | 203 | 155 | 3.1 | Presence |\n",
       "| 57 | 140 | 192 | 148 | 0.4 | Absence  |\n",
       "| 56 | 140 | 294 | 153 | 1.3 | Absence  |\n",
       "| 56 | 130 | 256 | 142 | 0.6 | Presence |\n",
       "| 44 | 120 | 263 | 173 | 0.0 | Absence  |\n",
       "| 52 | 172 | 199 | 162 | 0.5 | Absence  |\n",
       "| 57 | 150 | 168 | 174 | 1.6 | Absence  |\n",
       "| 48 | 110 | 229 | 168 | 1.0 | Presence |\n",
       "| 54 | 140 | 239 | 160 | 1.2 | Absence  |\n",
       "| 49 | 130 | 266 | 171 | 0.6 | Absence  |\n",
       "| 64 | 110 | 211 | 144 | 1.8 | Absence  |\n",
       "| 58 | 120 | 284 | 160 | 1.8 | Presence |\n",
       "| 50 | 120 | 219 | 158 | 1.6 | Absence  |\n",
       "| 58 | 120 | 340 | 172 | 0.0 | Absence  |\n",
       "| 60 | 117 | 230 | 160 | 1.4 | Presence |\n",
       "| 64 | 140 | 335 | 158 | 0.0 | Presence |\n",
       "| 59 | 135 | 234 | 161 | 0.5 | Absence  |\n",
       "| 42 | 140 | 226 | 178 | 0.0 | Absence  |\n",
       "| 43 | 120 | 177 | 120 | 2.5 | Presence |\n",
       "| 57 | 150 | 276 | 112 | 0.6 | Presence |\n",
       "| 55 | 132 | 353 | 132 | 1.2 | Presence |\n",
       "| 61 | 150 | 243 | 137 | 1.0 | Absence  |\n",
       "| 40 | 140 | 199 | 178 | 1.4 | Absence  |\n",
       "| ⋮ | ⋮ | ⋮ | ⋮ | ⋮ | ⋮ |\n",
       "| 44 | 120 | 226 | 169 | 0.0 | Absence  |\n",
       "| 61 | 138 | 166 | 125 | 3.6 | Presence |\n",
       "| 52 | 128 | 204 | 156 | 1.0 | Presence |\n",
       "| 59 | 126 | 218 | 134 | 2.2 | Presence |\n",
       "| 40 | 152 | 223 | 181 | 0.0 | Presence |\n",
       "| 42 | 130 | 180 | 150 | 0.0 | Absence  |\n",
       "| 71 | 112 | 149 | 125 | 1.6 | Absence  |\n",
       "| 59 | 134 | 204 | 162 | 0.8 | Presence |\n",
       "| 64 | 170 | 227 | 155 | 0.6 | Absence  |\n",
       "| 66 | 146 | 278 | 152 | 0.0 | Absence  |\n",
       "| 39 | 138 | 220 | 152 | 0.0 | Absence  |\n",
       "| 57 | 154 | 232 | 164 | 0.0 | Presence |\n",
       "| 58 | 130 | 197 | 131 | 0.6 | Absence  |\n",
       "| 57 | 110 | 335 | 143 | 3.0 | Presence |\n",
       "| 47 | 130 | 253 | 179 | 0.0 | Absence  |\n",
       "| 55 | 128 | 205 | 130 | 2.0 | Presence |\n",
       "| 61 | 148 | 203 | 161 | 0.0 | Presence |\n",
       "| 58 | 170 | 225 | 146 | 2.8 | Presence |\n",
       "| 58 | 125 | 220 | 144 | 0.4 | Absence  |\n",
       "| 56 | 120 | 240 | 169 | 0.0 | Absence  |\n",
       "| 67 | 152 | 212 | 150 | 0.8 | Presence |\n",
       "| 55 | 132 | 342 | 166 | 1.2 | Absence  |\n",
       "| 44 | 120 | 169 | 144 | 2.8 | Presence |\n",
       "| 63 | 124 | 197 | 136 | 0.0 | Presence |\n",
       "| 41 | 120 | 157 | 182 | 0.0 | Absence  |\n",
       "| 59 | 164 | 176 |  90 | 1.0 | Presence |\n",
       "| 45 | 110 | 264 | 132 | 1.2 | Presence |\n",
       "| 68 | 144 | 193 | 141 | 3.4 | Presence |\n",
       "| 57 | 130 | 131 | 115 | 1.2 | Presence |\n",
       "| 57 | 130 | 236 | 174 | 0.0 | Presence |\n",
       "\n"
      ],
      "text/plain": [
       "    age resting_blood_pressure cholesterol max_heart_rate ST_depression\n",
       "1   63  145                    233         150            2.3          \n",
       "2   67  160                    286         108            1.5          \n",
       "3   37  130                    250         187            3.5          \n",
       "4   41  130                    204         172            1.4          \n",
       "5   56  120                    236         178            0.8          \n",
       "6   62  140                    268         160            3.6          \n",
       "7   63  130                    254         147            1.4          \n",
       "8   53  140                    203         155            3.1          \n",
       "9   57  140                    192         148            0.4          \n",
       "10  56  140                    294         153            1.3          \n",
       "11  56  130                    256         142            0.6          \n",
       "12  44  120                    263         173            0.0          \n",
       "13  52  172                    199         162            0.5          \n",
       "14  57  150                    168         174            1.6          \n",
       "15  48  110                    229         168            1.0          \n",
       "16  54  140                    239         160            1.2          \n",
       "17  49  130                    266         171            0.6          \n",
       "18  64  110                    211         144            1.8          \n",
       "19  58  120                    284         160            1.8          \n",
       "20  50  120                    219         158            1.6          \n",
       "21  58  120                    340         172            0.0          \n",
       "22  60  117                    230         160            1.4          \n",
       "23  64  140                    335         158            0.0          \n",
       "24  59  135                    234         161            0.5          \n",
       "25  42  140                    226         178            0.0          \n",
       "26  43  120                    177         120            2.5          \n",
       "27  57  150                    276         112            0.6          \n",
       "28  55  132                    353         132            1.2          \n",
       "29  61  150                    243         137            1.0          \n",
       "30  40  140                    199         178            1.4          \n",
       "⋮   ⋮   ⋮                      ⋮           ⋮              ⋮            \n",
       "199 44  120                    226         169            0.0          \n",
       "200 61  138                    166         125            3.6          \n",
       "201 52  128                    204         156            1.0          \n",
       "202 59  126                    218         134            2.2          \n",
       "203 40  152                    223         181            0.0          \n",
       "204 42  130                    180         150            0.0          \n",
       "205 71  112                    149         125            1.6          \n",
       "206 59  134                    204         162            0.8          \n",
       "207 64  170                    227         155            0.6          \n",
       "208 66  146                    278         152            0.0          \n",
       "209 39  138                    220         152            0.0          \n",
       "210 57  154                    232         164            0.0          \n",
       "211 58  130                    197         131            0.6          \n",
       "212 57  110                    335         143            3.0          \n",
       "213 47  130                    253         179            0.0          \n",
       "214 55  128                    205         130            2.0          \n",
       "215 61  148                    203         161            0.0          \n",
       "216 58  170                    225         146            2.8          \n",
       "217 58  125                    220         144            0.4          \n",
       "218 56  120                    240         169            0.0          \n",
       "219 67  152                    212         150            0.8          \n",
       "220 55  132                    342         166            1.2          \n",
       "221 44  120                    169         144            2.8          \n",
       "222 63  124                    197         136            0.0          \n",
       "223 41  120                    157         182            0.0          \n",
       "224 59  164                    176          90            1.0          \n",
       "225 45  110                    264         132            1.2          \n",
       "226 68  144                    193         141            3.4          \n",
       "227 57  130                    131         115            1.2          \n",
       "228 57  130                    236         174            0.0          \n",
       "    diagnosis\n",
       "1   Absence  \n",
       "2   Presence \n",
       "3   Absence  \n",
       "4   Absence  \n",
       "5   Absence  \n",
       "6   Presence \n",
       "7   Presence \n",
       "8   Presence \n",
       "9   Absence  \n",
       "10  Absence  \n",
       "11  Presence \n",
       "12  Absence  \n",
       "13  Absence  \n",
       "14  Absence  \n",
       "15  Presence \n",
       "16  Absence  \n",
       "17  Absence  \n",
       "18  Absence  \n",
       "19  Presence \n",
       "20  Absence  \n",
       "21  Absence  \n",
       "22  Presence \n",
       "23  Presence \n",
       "24  Absence  \n",
       "25  Absence  \n",
       "26  Presence \n",
       "27  Presence \n",
       "28  Presence \n",
       "29  Absence  \n",
       "30  Absence  \n",
       "⋮   ⋮        \n",
       "199 Absence  \n",
       "200 Presence \n",
       "201 Presence \n",
       "202 Presence \n",
       "203 Presence \n",
       "204 Absence  \n",
       "205 Absence  \n",
       "206 Presence \n",
       "207 Absence  \n",
       "208 Absence  \n",
       "209 Absence  \n",
       "210 Presence \n",
       "211 Absence  \n",
       "212 Presence \n",
       "213 Absence  \n",
       "214 Presence \n",
       "215 Presence \n",
       "216 Presence \n",
       "217 Absence  \n",
       "218 Absence  \n",
       "219 Presence \n",
       "220 Absence  \n",
       "221 Presence \n",
       "222 Presence \n",
       "223 Absence  \n",
       "224 Presence \n",
       "225 Presence \n",
       "226 Presence \n",
       "227 Presence \n",
       "228 Presence "
      ]
     },
     "metadata": {},
     "output_type": "display_data"
    }
   ],
   "source": [
    "heart_disease_train"
   ]
  },
  {
   "cell_type": "markdown",
   "metadata": {},
   "source": [
    "#### Class Frequency"
   ]
  },
  {
   "cell_type": "markdown",
   "metadata": {},
   "source": [
    "Using the training set, I will now perform preliminary data analysis to explore the <b>class frequencies</b> of the <i>diagnosis</i> predictor, use <b>forward selection</b> to choose the predictor columns, and summarize the <b>mean predictor values</b> of the chosen predictors.  "
   ]
  },
  {
   "cell_type": "markdown",
   "metadata": {},
   "source": [
    "### Table 4 - Absence and Presence Frequency"
   ]
  },
  {
   "cell_type": "code",
   "execution_count": 7,
   "metadata": {},
   "outputs": [
    {
     "name": "stderr",
     "output_type": "stream",
     "text": [
      "`summarise()` ungrouping output (override with `.groups` argument)\n",
      "\n"
     ]
    },
    {
     "data": {
      "text/html": [
       "<table>\n",
       "<caption>A tibble: 2 × 3</caption>\n",
       "<thead>\n",
       "\t<tr><th scope=col>diagnosis</th><th scope=col>count</th><th scope=col>percent</th></tr>\n",
       "\t<tr><th scope=col>&lt;fct&gt;</th><th scope=col>&lt;int&gt;</th><th scope=col>&lt;dbl&gt;</th></tr>\n",
       "</thead>\n",
       "<tbody>\n",
       "\t<tr><td>Absence </td><td>123</td><td>53.94737</td></tr>\n",
       "\t<tr><td>Presence</td><td>105</td><td>46.05263</td></tr>\n",
       "</tbody>\n",
       "</table>\n"
      ],
      "text/latex": [
       "A tibble: 2 × 3\n",
       "\\begin{tabular}{lll}\n",
       " diagnosis & count & percent\\\\\n",
       " <fct> & <int> & <dbl>\\\\\n",
       "\\hline\n",
       "\t Absence  & 123 & 53.94737\\\\\n",
       "\t Presence & 105 & 46.05263\\\\\n",
       "\\end{tabular}\n"
      ],
      "text/markdown": [
       "\n",
       "A tibble: 2 × 3\n",
       "\n",
       "| diagnosis &lt;fct&gt; | count &lt;int&gt; | percent &lt;dbl&gt; |\n",
       "|---|---|---|\n",
       "| Absence  | 123 | 53.94737 |\n",
       "| Presence | 105 | 46.05263 |\n",
       "\n"
      ],
      "text/plain": [
       "  diagnosis count percent \n",
       "1 Absence   123   53.94737\n",
       "2 Presence  105   46.05263"
      ]
     },
     "metadata": {},
     "output_type": "display_data"
    }
   ],
   "source": [
    "heart_disease_proportions <- heart_disease_train %>%\n",
    "    group_by(diagnosis) %>%\n",
    "    summarize(count = n()) %>%\n",
    "    mutate(percent = 100 * count / nrow(heart_disease_train))\n",
    "\n",
    "heart_disease_proportions"
   ]
  },
  {
   "cell_type": "markdown",
   "metadata": {},
   "source": [
    "From Table 3, there is a fairly equal proportion of observations with an <b>Absence</b> diagnosis (~ 54%) and <b>Presence</b> diagnosis (~ 46%), so we will not need to manipulate the proportions. "
   ]
  },
  {
   "cell_type": "markdown",
   "metadata": {},
   "source": [
    "#### Forward Selection"
   ]
  },
  {
   "cell_type": "markdown",
   "metadata": {},
   "source": [
    "Now, I will using the forward selection method to help determine predictor variables that will maximize classification accuracy and result in a simple model (Timbers et al., 2022). "
   ]
  },
  {
   "cell_type": "code",
   "execution_count": 8,
   "metadata": {},
   "outputs": [],
   "source": [
    "#seed is set once again to the same value for reproducibility of the forward selection results\n",
    "set.seed(3)\n",
    "\n",
    "names <- colnames(heart_disease_train %>% select(-diagnosis))\n",
    "\n",
    "# create an empty tibble to store the results\n",
    "accuracies <- tibble(size = integer(), \n",
    "                     model_string = character(), \n",
    "                     accuracy = numeric())\n",
    "\n",
    "# create a model specification\n",
    "knn_spec <- nearest_neighbor(weight_func = \"rectangular\", \n",
    "                             neighbors = tune()) %>%\n",
    "     set_engine(\"kknn\") %>%\n",
    "     set_mode(\"classification\")\n",
    "\n",
    "# create a 5-fold cross-validation object\n",
    "heart_disease_vfold <- vfold_cv(heart_disease_train, v = 5, strata = diagnosis)\n",
    "\n",
    "# store the total number of predictors\n",
    "n_total <- length(names)\n",
    "\n",
    "# stores selected predictors\n",
    "selected <- c()\n",
    "\n",
    "# for every size from 1 to the total number of predictors\n",
    "for (i in 1:n_total) {\n",
    "    # for every predictor still not added yet\n",
    "    accs <- list()\n",
    "    models <- list()\n",
    "    for (j in 1:length(names)) {\n",
    "        # create a model string for this combination of predictors\n",
    "        preds_new <- c(selected, names[[j]])\n",
    "        model_string <- paste(\"diagnosis\", \"~\", paste(preds_new, collapse=\"+\"))\n",
    "\n",
    "        # create a recipe from the model string\n",
    "        heart_disease_recipe <- recipe(as.formula(model_string), \n",
    "                                data = heart_disease_train) %>%\n",
    "                          step_scale(all_predictors()) %>%\n",
    "                          step_center(all_predictors())\n",
    "\n",
    "        # tune the KNN classifier with these predictors, \n",
    "        # and collect the accuracy for the best K\n",
    "        acc <- workflow() %>%\n",
    "          add_recipe(heart_disease_recipe) %>%\n",
    "          add_model(knn_spec) %>%\n",
    "          tune_grid(resamples = heart_disease_vfold, grid = 10) %>%\n",
    "          collect_metrics() %>%\n",
    "          filter(.metric == \"accuracy\") %>%\n",
    "          summarize(mx = max(mean))\n",
    "        acc <- acc$mx %>% unlist()\n",
    "\n",
    "        # add this result to the dataframe\n",
    "        accs[[j]] <- acc\n",
    "        models[[j]] <- model_string\n",
    "    }\n",
    "    jstar <- which.max(unlist(accs))\n",
    "    accuracies <- accuracies %>% \n",
    "      add_row(size = i, \n",
    "              model_string = models[[jstar]], \n",
    "              accuracy = accs[[jstar]])\n",
    "    selected <- c(selected, names[[jstar]])\n",
    "    names <- names[-jstar]\n",
    "}"
   ]
  },
  {
   "cell_type": "markdown",
   "metadata": {},
   "source": [
    "### Table 5 - Forward Selection Accuracy Values"
   ]
  },
  {
   "cell_type": "code",
   "execution_count": 9,
   "metadata": {},
   "outputs": [
    {
     "data": {
      "text/html": [
       "<table>\n",
       "<caption>A tibble: 5 × 3</caption>\n",
       "<thead>\n",
       "\t<tr><th scope=col>size</th><th scope=col>model_string</th><th scope=col>accuracy</th></tr>\n",
       "\t<tr><th scope=col>&lt;int&gt;</th><th scope=col>&lt;chr&gt;</th><th scope=col>&lt;dbl&gt;</th></tr>\n",
       "</thead>\n",
       "<tbody>\n",
       "\t<tr><td>1</td><td>diagnosis ~ ST_depression                                                      </td><td>0.7100483</td></tr>\n",
       "\t<tr><td>2</td><td>diagnosis ~ ST_depression+age                                                  </td><td>0.7058937</td></tr>\n",
       "\t<tr><td>3</td><td>diagnosis ~ ST_depression+age+resting_blood_pressure                           </td><td>0.6973913</td></tr>\n",
       "\t<tr><td>4</td><td>diagnosis ~ ST_depression+age+resting_blood_pressure+max_heart_rate            </td><td>0.7057971</td></tr>\n",
       "\t<tr><td>5</td><td>diagnosis ~ ST_depression+age+resting_blood_pressure+max_heart_rate+cholesterol</td><td>0.7189372</td></tr>\n",
       "</tbody>\n",
       "</table>\n"
      ],
      "text/latex": [
       "A tibble: 5 × 3\n",
       "\\begin{tabular}{lll}\n",
       " size & model\\_string & accuracy\\\\\n",
       " <int> & <chr> & <dbl>\\\\\n",
       "\\hline\n",
       "\t 1 & diagnosis \\textasciitilde{} ST\\_depression                                                       & 0.7100483\\\\\n",
       "\t 2 & diagnosis \\textasciitilde{} ST\\_depression+age                                                   & 0.7058937\\\\\n",
       "\t 3 & diagnosis \\textasciitilde{} ST\\_depression+age+resting\\_blood\\_pressure                            & 0.6973913\\\\\n",
       "\t 4 & diagnosis \\textasciitilde{} ST\\_depression+age+resting\\_blood\\_pressure+max\\_heart\\_rate             & 0.7057971\\\\\n",
       "\t 5 & diagnosis \\textasciitilde{} ST\\_depression+age+resting\\_blood\\_pressure+max\\_heart\\_rate+cholesterol & 0.7189372\\\\\n",
       "\\end{tabular}\n"
      ],
      "text/markdown": [
       "\n",
       "A tibble: 5 × 3\n",
       "\n",
       "| size &lt;int&gt; | model_string &lt;chr&gt; | accuracy &lt;dbl&gt; |\n",
       "|---|---|---|\n",
       "| 1 | diagnosis ~ ST_depression                                                       | 0.7100483 |\n",
       "| 2 | diagnosis ~ ST_depression+age                                                   | 0.7058937 |\n",
       "| 3 | diagnosis ~ ST_depression+age+resting_blood_pressure                            | 0.6973913 |\n",
       "| 4 | diagnosis ~ ST_depression+age+resting_blood_pressure+max_heart_rate             | 0.7057971 |\n",
       "| 5 | diagnosis ~ ST_depression+age+resting_blood_pressure+max_heart_rate+cholesterol | 0.7189372 |\n",
       "\n"
      ],
      "text/plain": [
       "  size\n",
       "1 1   \n",
       "2 2   \n",
       "3 3   \n",
       "4 4   \n",
       "5 5   \n",
       "  model_string                                                                   \n",
       "1 diagnosis ~ ST_depression                                                      \n",
       "2 diagnosis ~ ST_depression+age                                                  \n",
       "3 diagnosis ~ ST_depression+age+resting_blood_pressure                           \n",
       "4 diagnosis ~ ST_depression+age+resting_blood_pressure+max_heart_rate            \n",
       "5 diagnosis ~ ST_depression+age+resting_blood_pressure+max_heart_rate+cholesterol\n",
       "  accuracy \n",
       "1 0.7100483\n",
       "2 0.7058937\n",
       "3 0.6973913\n",
       "4 0.7057971\n",
       "5 0.7189372"
      ]
     },
     "metadata": {},
     "output_type": "display_data"
    }
   ],
   "source": [
    "accuracies"
   ]
  },
  {
   "cell_type": "markdown",
   "metadata": {},
   "source": [
    "As seen from the results in Table 4, the accuracy value is greatest with four predictors in the fourth row with an accuracy score of ~ 75%. Although using four predictors is projected to provide the greatest accuracy, I believe that adding the cholesterol variable will make the KNN classification results more meaningful because cholesterol is supposedly one of the key determiners of heart disease. Furthermore, with information from the below visualizations and the Centers for Disease Control and Prevention, I will use blood pressure as a predictor because higher blood pressure supposedly leads to increased susceptibility to heart disease. Similarly, I use age and maximum heart rate as predictors because older people are supposedly more susceptible to heart disease, and older people tend to have lower maximum heart rates. Lastly, from the below visualization of \"ST Depression Value and Maximum Heart Rate Against Heart Disease Diagnosis\", it appears that higher ST Depression values result in the presence of heart disease, which is a relationship I would like to explore. \n",
    "\n",
    "In summary, I will choose the following variables to be predictor variables for my KNN classification model: \n",
    "\n",
    "1. ST Depression Value \n",
    "2. Maximum Heart Rate\n",
    "3. Resting Blood Pressure\n",
    "4. Age\n",
    "5. Cholesterol Levels"
   ]
  },
  {
   "cell_type": "markdown",
   "metadata": {},
   "source": [
    "#### Mean Predictor Values"
   ]
  },
  {
   "cell_type": "markdown",
   "metadata": {},
   "source": [
    "I will now calculate the mean value for each predictor."
   ]
  },
  {
   "cell_type": "code",
   "execution_count": 10,
   "metadata": {},
   "outputs": [],
   "source": [
    "heart_disease_predictors <- heart_disease_train %>%\n",
    "    select(-diagnosis) %>%\n",
    "    map_df(mean)"
   ]
  },
  {
   "cell_type": "markdown",
   "metadata": {},
   "source": [
    "### Table 6 - Mean Predictor Values"
   ]
  },
  {
   "cell_type": "code",
   "execution_count": 11,
   "metadata": {},
   "outputs": [
    {
     "data": {
      "text/html": [
       "<table>\n",
       "<caption>A tibble: 1 × 5</caption>\n",
       "<thead>\n",
       "\t<tr><th scope=col>age</th><th scope=col>resting_blood_pressure</th><th scope=col>cholesterol</th><th scope=col>max_heart_rate</th><th scope=col>ST_depression</th></tr>\n",
       "\t<tr><th scope=col>&lt;dbl&gt;</th><th scope=col>&lt;dbl&gt;</th><th scope=col>&lt;dbl&gt;</th><th scope=col>&lt;dbl&gt;</th><th scope=col>&lt;dbl&gt;</th></tr>\n",
       "</thead>\n",
       "<tbody>\n",
       "\t<tr><td>54.16667</td><td>131.1842</td><td>247.0088</td><td>149.7632</td><td>1.042982</td></tr>\n",
       "</tbody>\n",
       "</table>\n"
      ],
      "text/latex": [
       "A tibble: 1 × 5\n",
       "\\begin{tabular}{lllll}\n",
       " age & resting\\_blood\\_pressure & cholesterol & max\\_heart\\_rate & ST\\_depression\\\\\n",
       " <dbl> & <dbl> & <dbl> & <dbl> & <dbl>\\\\\n",
       "\\hline\n",
       "\t 54.16667 & 131.1842 & 247.0088 & 149.7632 & 1.042982\\\\\n",
       "\\end{tabular}\n"
      ],
      "text/markdown": [
       "\n",
       "A tibble: 1 × 5\n",
       "\n",
       "| age &lt;dbl&gt; | resting_blood_pressure &lt;dbl&gt; | cholesterol &lt;dbl&gt; | max_heart_rate &lt;dbl&gt; | ST_depression &lt;dbl&gt; |\n",
       "|---|---|---|---|---|\n",
       "| 54.16667 | 131.1842 | 247.0088 | 149.7632 | 1.042982 |\n",
       "\n"
      ],
      "text/plain": [
       "  age      resting_blood_pressure cholesterol max_heart_rate ST_depression\n",
       "1 54.16667 131.1842               247.0088    149.7632       1.042982     "
      ]
     },
     "metadata": {},
     "output_type": "display_data"
    }
   ],
   "source": [
    "heart_disease_predictors"
   ]
  },
  {
   "cell_type": "markdown",
   "metadata": {},
   "source": [
    "Looking at the fluctuations between the average values of each predictor variable, I will need to standardize the data before training the KNN classification model to ensure that all predictors have equal weight on the classification result. "
   ]
  },
  {
   "cell_type": "markdown",
   "metadata": {},
   "source": [
    "### Table 7 - Missing Observations"
   ]
  },
  {
   "cell_type": "code",
   "execution_count": 12,
   "metadata": {},
   "outputs": [
    {
     "name": "stdout",
     "output_type": "stream",
     "text": [
      "                   age resting_blood_pressure            cholesterol \n",
      "                     0                      0                      0 \n",
      "        max_heart_rate          ST_depression              diagnosis \n",
      "                     0                      0                      0 \n"
     ]
    }
   ],
   "source": [
    "naCols <- colSums(is.na(heart_disease_train))\n",
    "\n",
    "print(naCols)"
   ]
  },
  {
   "cell_type": "markdown",
   "metadata": {},
   "source": [
    "There are no missing values within the training dataset as I had removed all observations with missing values earlier in the cleaning process."
   ]
  },
  {
   "cell_type": "markdown",
   "metadata": {},
   "source": [
    "#### Visualizations"
   ]
  },
  {
   "cell_type": "code",
   "execution_count": 13,
   "metadata": {},
   "outputs": [],
   "source": [
    "options(repr.plot.width = 12, repr.plot.height = 10)\n",
    "heart_rate_age_plot <- heart_disease_train %>%\n",
    "    ggplot(aes(x = age, y = max_heart_rate, color = diagnosis, shape = diagnosis)) +\n",
    "        geom_point() + \n",
    "        labs(x = \"Age (yrs)\", y = \"Max Heart Rate (bpm)\", color = \"Diagnosis\", shape = \"Diagnosis\") + \n",
    "        ggtitle(\"Maximum Heart Rate and Age against Heart Disease Diagnosis\") +\n",
    "        theme(text = element_text(size = 20))"
   ]
  },
  {
   "cell_type": "markdown",
   "metadata": {},
   "source": [
    "### Figure 1 - Maximum Heart Rate and Age against Heart Disease Diagnosis"
   ]
  },
  {
   "cell_type": "code",
   "execution_count": 14,
   "metadata": {},
   "outputs": [
    {
     "data": {
      "image/png": "[encoded data removed]",
      "text/plain": [
       "plot without title"
      ]
     },
     "metadata": {
      "image/png": {
       "height": 600,
       "width": 720
      }
     },
     "output_type": "display_data"
    }
   ],
   "source": [
    "heart_rate_age_plot"
   ]
  },
  {
   "cell_type": "markdown",
   "metadata": {},
   "source": [
    "From Figure 1, there appears to be a weak, negative relationship between Maximum Heart Rate and Age, meaning that older-aged people tend to have lower maximum heart rates. It also appears that heart disease tends to be more present in people over 50 years of age who have maximum heart rates less than 150 bpm. "
   ]
  },
  {
   "cell_type": "code",
   "execution_count": 15,
   "metadata": {},
   "outputs": [],
   "source": [
    "options(repr.plot.width = 12, repr.plot.height = 10)\n",
    "\n",
    "cholesterol_restingbp_plot <- heart_disease_train %>%\n",
    "    ggplot(aes(x = resting_blood_pressure, y = cholesterol, color = diagnosis, shape = diagnosis)) +\n",
    "        geom_point() +\n",
    "        labs(x = \"Resting Blood Pressure (mm Hg)\", y = \"Cholesterol (mg/dl)\", color = \"Diagnosis\", shape = \"Diagnosis\") +\n",
    "        theme(text = element_text(size = 20)) + \n",
    "        ggtitle(\"Cholesterol and Resting Blood Pressure Against Heart Disease Diagnosis\") +\n",
    "        geom_hline(yintercept = 200, linetype = \"dashed\", size = 0.25, alpha = 0.8) +\n",
    "        geom_vline(xintercept = 120, linetype = \"dashed\", size = 0.25, alpha = 0.8) +\n",
    "        ylim(100, 400) \n",
    "# ylim limits y-axis values, excluding some outliers"
   ]
  },
  {
   "cell_type": "markdown",
   "metadata": {},
   "source": [
    "### Figure 2 - Cholesterol and Resting Blood Pressure Against Heart Disease Diagnosis"
   ]
  },
  {
   "cell_type": "code",
   "execution_count": 16,
   "metadata": {},
   "outputs": [
    {
     "data": {
      "image/png": "[encoded data removed]",
      "text/plain": [
       "plot without title"
      ]
     },
     "metadata": {
      "image/png": {
       "height": 600,
       "width": 720
      }
     },
     "output_type": "display_data"
    }
   ],
   "source": [
    "cholesterol_restingbp_plot"
   ]
  },
  {
   "cell_type": "markdown",
   "metadata": {},
   "source": [
    "For Figure 2, the vertical line at 120 mm Hg represents the recommended healthy blood pressure, which is stated as < 120 mm Hg (Centers for Disease Control and Prevention, 2021). Similarly, the horizontal line at 200 mg/dl represents the recommended healthy cholesterol level, which is stated as < 200 mg/dl (Centers for Disease Control and Prevention, 2021). \n",
    "\n",
    "From the figure, most of the observations in the dataset lie in the \"unhealthy\" categories for both cholesterol and resting blood pressure levels. If we look at the figure as having four quadrants split by the dashed lines, it is difficult to tell which quadrant has a greater proportion of data points with heart disease presence. \n",
    "\n",
    "So I will summarize the proportions of each quadrants in the following four tables."
   ]
  },
  {
   "cell_type": "code",
   "execution_count": 17,
   "metadata": {},
   "outputs": [
    {
     "name": "stderr",
     "output_type": "stream",
     "text": [
      "`summarise()` ungrouping output (override with `.groups` argument)\n",
      "\n"
     ]
    }
   ],
   "source": [
    "high_chl_and_bp <- heart_disease_train %>%\n",
    "    filter((resting_blood_pressure >= 120) & (cholesterol >= 200)) %>%\n",
    "    group_by(diagnosis) %>%\n",
    "    summarize(count = n()) %>%\n",
    "    mutate(percent = 100 * count / (82 + 79))"
   ]
  },
  {
   "cell_type": "markdown",
   "metadata": {},
   "source": [
    "### Table 8 - High Cholesterol and High Resting Blood Pressure (Top-Right Quadrant)"
   ]
  },
  {
   "cell_type": "code",
   "execution_count": 18,
   "metadata": {},
   "outputs": [
    {
     "data": {
      "text/html": [
       "<table>\n",
       "<caption>A tibble: 2 × 3</caption>\n",
       "<thead>\n",
       "\t<tr><th scope=col>diagnosis</th><th scope=col>count</th><th scope=col>percent</th></tr>\n",
       "\t<tr><th scope=col>&lt;fct&gt;</th><th scope=col>&lt;int&gt;</th><th scope=col>&lt;dbl&gt;</th></tr>\n",
       "</thead>\n",
       "<tbody>\n",
       "\t<tr><td>Absence </td><td>75</td><td>46.58385</td></tr>\n",
       "\t<tr><td>Presence</td><td>76</td><td>47.20497</td></tr>\n",
       "</tbody>\n",
       "</table>\n"
      ],
      "text/latex": [
       "A tibble: 2 × 3\n",
       "\\begin{tabular}{lll}\n",
       " diagnosis & count & percent\\\\\n",
       " <fct> & <int> & <dbl>\\\\\n",
       "\\hline\n",
       "\t Absence  & 75 & 46.58385\\\\\n",
       "\t Presence & 76 & 47.20497\\\\\n",
       "\\end{tabular}\n"
      ],
      "text/markdown": [
       "\n",
       "A tibble: 2 × 3\n",
       "\n",
       "| diagnosis &lt;fct&gt; | count &lt;int&gt; | percent &lt;dbl&gt; |\n",
       "|---|---|---|\n",
       "| Absence  | 75 | 46.58385 |\n",
       "| Presence | 76 | 47.20497 |\n",
       "\n"
      ],
      "text/plain": [
       "  diagnosis count percent \n",
       "1 Absence   75    46.58385\n",
       "2 Presence  76    47.20497"
      ]
     },
     "metadata": {},
     "output_type": "display_data"
    }
   ],
   "source": [
    "high_chl_and_bp"
   ]
  },
  {
   "cell_type": "code",
   "execution_count": 19,
   "metadata": {},
   "outputs": [
    {
     "name": "stderr",
     "output_type": "stream",
     "text": [
      "`summarise()` ungrouping output (override with `.groups` argument)\n",
      "\n"
     ]
    }
   ],
   "source": [
    "low_chl_and_bp <- heart_disease_train %>%\n",
    "    filter((resting_blood_pressure < 120) & (cholesterol < 200)) %>%\n",
    "    group_by(diagnosis) %>%\n",
    "    summarize(count = n()) %>%\n",
    "    mutate(percent = 100 * count / (6 + 4))"
   ]
  },
  {
   "cell_type": "markdown",
   "metadata": {},
   "source": [
    "### Table 9 - Low Cholesterol and Low Resting Blood Pressure (Bottom-Left Quadrant)"
   ]
  },
  {
   "cell_type": "code",
   "execution_count": 20,
   "metadata": {},
   "outputs": [
    {
     "data": {
      "text/html": [
       "<table>\n",
       "<caption>A tibble: 2 × 3</caption>\n",
       "<thead>\n",
       "\t<tr><th scope=col>diagnosis</th><th scope=col>count</th><th scope=col>percent</th></tr>\n",
       "\t<tr><th scope=col>&lt;fct&gt;</th><th scope=col>&lt;int&gt;</th><th scope=col>&lt;dbl&gt;</th></tr>\n",
       "</thead>\n",
       "<tbody>\n",
       "\t<tr><td>Absence </td><td>9</td><td>90</td></tr>\n",
       "\t<tr><td>Presence</td><td>2</td><td>20</td></tr>\n",
       "</tbody>\n",
       "</table>\n"
      ],
      "text/latex": [
       "A tibble: 2 × 3\n",
       "\\begin{tabular}{lll}\n",
       " diagnosis & count & percent\\\\\n",
       " <fct> & <int> & <dbl>\\\\\n",
       "\\hline\n",
       "\t Absence  & 9 & 90\\\\\n",
       "\t Presence & 2 & 20\\\\\n",
       "\\end{tabular}\n"
      ],
      "text/markdown": [
       "\n",
       "A tibble: 2 × 3\n",
       "\n",
       "| diagnosis &lt;fct&gt; | count &lt;int&gt; | percent &lt;dbl&gt; |\n",
       "|---|---|---|\n",
       "| Absence  | 9 | 90 |\n",
       "| Presence | 2 | 20 |\n",
       "\n"
      ],
      "text/plain": [
       "  diagnosis count percent\n",
       "1 Absence   9     90     \n",
       "2 Presence  2     20     "
      ]
     },
     "metadata": {},
     "output_type": "display_data"
    }
   ],
   "source": [
    "low_chl_and_bp"
   ]
  },
  {
   "cell_type": "code",
   "execution_count": 21,
   "metadata": {},
   "outputs": [
    {
     "name": "stderr",
     "output_type": "stream",
     "text": [
      "`summarise()` ungrouping output (override with `.groups` argument)\n",
      "\n"
     ]
    }
   ],
   "source": [
    "low_chl_and_high_bp <- heart_disease_train %>%\n",
    "    filter((resting_blood_pressure >= 120) & (cholesterol < 200)) %>%\n",
    "    group_by(diagnosis) %>%\n",
    "    summarize(count = n()) %>%\n",
    "    mutate(percent = 100 * count / (15 + 12))"
   ]
  },
  {
   "cell_type": "markdown",
   "metadata": {},
   "source": [
    "### Table 10 - Low Cholesterol and High Resting Blood Pressure (Bottom-Right Quadrant)"
   ]
  },
  {
   "cell_type": "code",
   "execution_count": 22,
   "metadata": {},
   "outputs": [
    {
     "data": {
      "text/html": [
       "<table>\n",
       "<caption>A tibble: 2 × 3</caption>\n",
       "<thead>\n",
       "\t<tr><th scope=col>diagnosis</th><th scope=col>count</th><th scope=col>percent</th></tr>\n",
       "\t<tr><th scope=col>&lt;fct&gt;</th><th scope=col>&lt;int&gt;</th><th scope=col>&lt;dbl&gt;</th></tr>\n",
       "</thead>\n",
       "<tbody>\n",
       "\t<tr><td>Absence </td><td>15</td><td>55.55556</td></tr>\n",
       "\t<tr><td>Presence</td><td>14</td><td>51.85185</td></tr>\n",
       "</tbody>\n",
       "</table>\n"
      ],
      "text/latex": [
       "A tibble: 2 × 3\n",
       "\\begin{tabular}{lll}\n",
       " diagnosis & count & percent\\\\\n",
       " <fct> & <int> & <dbl>\\\\\n",
       "\\hline\n",
       "\t Absence  & 15 & 55.55556\\\\\n",
       "\t Presence & 14 & 51.85185\\\\\n",
       "\\end{tabular}\n"
      ],
      "text/markdown": [
       "\n",
       "A tibble: 2 × 3\n",
       "\n",
       "| diagnosis &lt;fct&gt; | count &lt;int&gt; | percent &lt;dbl&gt; |\n",
       "|---|---|---|\n",
       "| Absence  | 15 | 55.55556 |\n",
       "| Presence | 14 | 51.85185 |\n",
       "\n"
      ],
      "text/plain": [
       "  diagnosis count percent \n",
       "1 Absence   15    55.55556\n",
       "2 Presence  14    51.85185"
      ]
     },
     "metadata": {},
     "output_type": "display_data"
    }
   ],
   "source": [
    "low_chl_and_high_bp"
   ]
  },
  {
   "cell_type": "code",
   "execution_count": 23,
   "metadata": {},
   "outputs": [
    {
     "name": "stderr",
     "output_type": "stream",
     "text": [
      "`summarise()` ungrouping output (override with `.groups` argument)\n",
      "\n"
     ]
    }
   ],
   "source": [
    "high_chl_and_low_bp <- heart_disease_train %>%\n",
    "    filter((resting_blood_pressure < 120) & (cholesterol >= 200)) %>%\n",
    "    group_by(diagnosis) %>%\n",
    "    summarize(count = n()) %>%\n",
    "    mutate(percent = 100 * count / (20 + 10))"
   ]
  },
  {
   "cell_type": "markdown",
   "metadata": {},
   "source": [
    "### Table 11 - Low Cholesterol and High Resting Blood Pressure (Top-Left Quadrant)"
   ]
  },
  {
   "cell_type": "code",
   "execution_count": 24,
   "metadata": {},
   "outputs": [
    {
     "data": {
      "text/html": [
       "<table>\n",
       "<caption>A tibble: 2 × 3</caption>\n",
       "<thead>\n",
       "\t<tr><th scope=col>diagnosis</th><th scope=col>count</th><th scope=col>percent</th></tr>\n",
       "\t<tr><th scope=col>&lt;fct&gt;</th><th scope=col>&lt;int&gt;</th><th scope=col>&lt;dbl&gt;</th></tr>\n",
       "</thead>\n",
       "<tbody>\n",
       "\t<tr><td>Absence </td><td>24</td><td>80.00000</td></tr>\n",
       "\t<tr><td>Presence</td><td>13</td><td>43.33333</td></tr>\n",
       "</tbody>\n",
       "</table>\n"
      ],
      "text/latex": [
       "A tibble: 2 × 3\n",
       "\\begin{tabular}{lll}\n",
       " diagnosis & count & percent\\\\\n",
       " <fct> & <int> & <dbl>\\\\\n",
       "\\hline\n",
       "\t Absence  & 24 & 80.00000\\\\\n",
       "\t Presence & 13 & 43.33333\\\\\n",
       "\\end{tabular}\n"
      ],
      "text/markdown": [
       "\n",
       "A tibble: 2 × 3\n",
       "\n",
       "| diagnosis &lt;fct&gt; | count &lt;int&gt; | percent &lt;dbl&gt; |\n",
       "|---|---|---|\n",
       "| Absence  | 24 | 80.00000 |\n",
       "| Presence | 13 | 43.33333 |\n",
       "\n"
      ],
      "text/plain": [
       "  diagnosis count percent \n",
       "1 Absence   24    80.00000\n",
       "2 Presence  13    43.33333"
      ]
     },
     "metadata": {},
     "output_type": "display_data"
    }
   ],
   "source": [
    "high_chl_and_low_bp"
   ]
  },
  {
   "cell_type": "markdown",
   "metadata": {},
   "source": [
    "From the above four tables, it appears that each quadrant has a relatively balanced proportion of data points with heart disease presence and absence. But the High Cholesterol and High Blood Pressure table has the highest proportion of data points with heart disease presence (~ 49%) and the High Cholesterol and Low Blood Pressure table has the lowest proportion of data points with heart disease presence (~ 67%). "
   ]
  },
  {
   "cell_type": "code",
   "execution_count": 25,
   "metadata": {},
   "outputs": [],
   "source": [
    "options(repr.plot.width = 12, repr.plot.height = 10)\n",
    "ST_heart_rate_plot <- heart_disease_train %>%\n",
    "    ggplot(aes(x = max_heart_rate, y = ST_depression, color = diagnosis, shape = diagnosis)) +\n",
    "        geom_point() + \n",
    "        labs(x = \"Max Heart Rate (bpm)\", y = \"ST Depression Value\",  color = \"Diagnosis\", shape = \"Diagnosis\") + \n",
    "        ggtitle(\"ST Depression Value and Maximum Heart Rate Against \\n Heart Disease Diagnosis\") +\n",
    "        theme(text = element_text(size = 20))"
   ]
  },
  {
   "cell_type": "markdown",
   "metadata": {},
   "source": [
    "### Figure 3 - ST Depression Value and Maximum Heart Rate Against Heart Disease Diagnosis"
   ]
  },
  {
   "cell_type": "code",
   "execution_count": 26,
   "metadata": {},
   "outputs": [
    {
     "data": {
      "image/png": "[encoded data removed]",
      "text/plain": [
       "plot without title"
      ]
     },
     "metadata": {
      "image/png": {
       "height": 600,
       "width": 720
      }
     },
     "output_type": "display_data"
    }
   ],
   "source": [
    "ST_heart_rate_plot"
   ]
  },
  {
   "cell_type": "markdown",
   "metadata": {},
   "source": [
    "Firstly, I decided to compare Maximum Heart Rate with ST Depression Value because both these predictors measure heartbeats in different ways. However, from Figure 3, it appears that there is no relationship between ST Depression Value and Maximum Heart Rate. However, it appears that observations with greater ST Depression Values  (> 2 in particular) and lower Maximum Heart Rates (< 150 bpm in particular), have a greater likelihood to have a heart disease presence."
   ]
  },
  {
   "cell_type": "markdown",
   "metadata": {},
   "source": [
    "With predictor variable selection and preliminary data analysis complete, I will now create, train, and test my KNN classification model. "
   ]
  },
  {
   "cell_type": "markdown",
   "metadata": {},
   "source": [
    "### Recipe\n",
    "I first create the model's recipe to predict the diagnosis variable based on the other predictor variables. These predictor variables will be standardized such that each predictor has an equal \"weight contribution\" to the classification. "
   ]
  },
  {
   "cell_type": "code",
   "execution_count": 36,
   "metadata": {},
   "outputs": [],
   "source": [
    "heart_disease_recipe <- recipe(diagnosis ~ ., data = heart_disease_train) %>%\n",
    "    step_center(all_predictors()) %>%\n",
    "    step_scale(all_predictors())"
   ]
  },
  {
   "cell_type": "markdown",
   "metadata": {},
   "source": [
    "### Model Specification"
   ]
  },
  {
   "cell_type": "code",
   "execution_count": 30,
   "metadata": {},
   "outputs": [],
   "source": [
    "heart_disease_spec <- nearest_neighbor(weight_func = \"rectangular\", neighbors = tune()) %>%\n",
    "    set_engine(\"kknn\") %>%\n",
    "    set_mode(\"classification\")"
   ]
  },
  {
   "cell_type": "markdown",
   "metadata": {},
   "source": [
    "### Cross Validation Workflow\n",
    "I will now perform cross-validation with 5 folds for K-values ranging from 1 to 100. Afterwards, I filter the metrics tibble for accuracy metrics for each K-value and choose the K-value associated with the highest accuracy. "
   ]
  },
  {
   "cell_type": "code",
   "execution_count": 40,
   "metadata": {},
   "outputs": [],
   "source": [
    "heart_disease_vfold <- vfold_cv(heart_disease_train, v = 5, strata = diagnosis)\n",
    "\n",
    "heart_disease_results <- workflow() %>%\n",
    "    add_recipe(heart_disease_recipe) %>%\n",
    "    add_model(heart_disease_spec) %>%\n",
    "    tune_grid(resamples = heart_disease_vfold, grid = 100) %>%\n",
    "    collect_metrics()\n",
    "\n",
    "accuracies <- heart_disease_results %>%\n",
    "    filter(.metric == \"accuracy\") %>%\n",
    "    arrange(desc(mean))"
   ]
  },
  {
   "cell_type": "markdown",
   "metadata": {},
   "source": [
    "### Table 12 - Cross Validation Results for the Accuracies of K-Values from 1 to 100 Nearest Neighbors"
   ]
  },
  {
   "cell_type": "code",
   "execution_count": 41,
   "metadata": {},
   "outputs": [
    {
     "data": {
      "text/html": [
       "<table>\n",
       "<caption>A tibble: 15 × 7</caption>\n",
       "<thead>\n",
       "\t<tr><th scope=col>neighbors</th><th scope=col>.metric</th><th scope=col>.estimator</th><th scope=col>mean</th><th scope=col>n</th><th scope=col>std_err</th><th scope=col>.config</th></tr>\n",
       "\t<tr><th scope=col>&lt;int&gt;</th><th scope=col>&lt;chr&gt;</th><th scope=col>&lt;chr&gt;</th><th scope=col>&lt;dbl&gt;</th><th scope=col>&lt;int&gt;</th><th scope=col>&lt;dbl&gt;</th><th scope=col>&lt;chr&gt;</th></tr>\n",
       "</thead>\n",
       "<tbody>\n",
       "\t<tr><td> 7</td><td>accuracy</td><td>binary</td><td>0.8242908</td><td>5</td><td>0.01551140</td><td>Model07</td></tr>\n",
       "\t<tr><td> 8</td><td>accuracy</td><td>binary</td><td>0.8242908</td><td>5</td><td>0.01551140</td><td>Model08</td></tr>\n",
       "\t<tr><td>11</td><td>accuracy</td><td>binary</td><td>0.8159574</td><td>5</td><td>0.02308219</td><td>Model11</td></tr>\n",
       "\t<tr><td>12</td><td>accuracy</td><td>binary</td><td>0.8159574</td><td>5</td><td>0.02308219</td><td>Model12</td></tr>\n",
       "\t<tr><td> 9</td><td>accuracy</td><td>binary</td><td>0.8118794</td><td>5</td><td>0.01944432</td><td>Model09</td></tr>\n",
       "\t<tr><td>10</td><td>accuracy</td><td>binary</td><td>0.8118794</td><td>5</td><td>0.01944432</td><td>Model10</td></tr>\n",
       "\t<tr><td> 5</td><td>accuracy</td><td>binary</td><td>0.8034574</td><td>5</td><td>0.01014926</td><td>Model05</td></tr>\n",
       "\t<tr><td> 6</td><td>accuracy</td><td>binary</td><td>0.8034574</td><td>5</td><td>0.01014926</td><td>Model06</td></tr>\n",
       "\t<tr><td>15</td><td>accuracy</td><td>binary</td><td>0.7951241</td><td>5</td><td>0.03366064</td><td>Model15</td></tr>\n",
       "\t<tr><td>13</td><td>accuracy</td><td>binary</td><td>0.7867021</td><td>5</td><td>0.03172205</td><td>Model13</td></tr>\n",
       "\t<tr><td>14</td><td>accuracy</td><td>binary</td><td>0.7867021</td><td>5</td><td>0.03172205</td><td>Model14</td></tr>\n",
       "\t<tr><td> 3</td><td>accuracy</td><td>binary</td><td>0.7617908</td><td>5</td><td>0.02188280</td><td>Model03</td></tr>\n",
       "\t<tr><td> 4</td><td>accuracy</td><td>binary</td><td>0.7617908</td><td>5</td><td>0.02188280</td><td>Model04</td></tr>\n",
       "\t<tr><td> 1</td><td>accuracy</td><td>binary</td><td>0.7240248</td><td>5</td><td>0.03417366</td><td>Model01</td></tr>\n",
       "\t<tr><td> 2</td><td>accuracy</td><td>binary</td><td>0.7240248</td><td>5</td><td>0.03417366</td><td>Model02</td></tr>\n",
       "</tbody>\n",
       "</table>\n"
      ],
      "text/latex": [
       "A tibble: 15 × 7\n",
       "\\begin{tabular}{lllllll}\n",
       " neighbors & .metric & .estimator & mean & n & std\\_err & .config\\\\\n",
       " <int> & <chr> & <chr> & <dbl> & <int> & <dbl> & <chr>\\\\\n",
       "\\hline\n",
       "\t  7 & accuracy & binary & 0.8242908 & 5 & 0.01551140 & Model07\\\\\n",
       "\t  8 & accuracy & binary & 0.8242908 & 5 & 0.01551140 & Model08\\\\\n",
       "\t 11 & accuracy & binary & 0.8159574 & 5 & 0.02308219 & Model11\\\\\n",
       "\t 12 & accuracy & binary & 0.8159574 & 5 & 0.02308219 & Model12\\\\\n",
       "\t  9 & accuracy & binary & 0.8118794 & 5 & 0.01944432 & Model09\\\\\n",
       "\t 10 & accuracy & binary & 0.8118794 & 5 & 0.01944432 & Model10\\\\\n",
       "\t  5 & accuracy & binary & 0.8034574 & 5 & 0.01014926 & Model05\\\\\n",
       "\t  6 & accuracy & binary & 0.8034574 & 5 & 0.01014926 & Model06\\\\\n",
       "\t 15 & accuracy & binary & 0.7951241 & 5 & 0.03366064 & Model15\\\\\n",
       "\t 13 & accuracy & binary & 0.7867021 & 5 & 0.03172205 & Model13\\\\\n",
       "\t 14 & accuracy & binary & 0.7867021 & 5 & 0.03172205 & Model14\\\\\n",
       "\t  3 & accuracy & binary & 0.7617908 & 5 & 0.02188280 & Model03\\\\\n",
       "\t  4 & accuracy & binary & 0.7617908 & 5 & 0.02188280 & Model04\\\\\n",
       "\t  1 & accuracy & binary & 0.7240248 & 5 & 0.03417366 & Model01\\\\\n",
       "\t  2 & accuracy & binary & 0.7240248 & 5 & 0.03417366 & Model02\\\\\n",
       "\\end{tabular}\n"
      ],
      "text/markdown": [
       "\n",
       "A tibble: 15 × 7\n",
       "\n",
       "| neighbors &lt;int&gt; | .metric &lt;chr&gt; | .estimator &lt;chr&gt; | mean &lt;dbl&gt; | n &lt;int&gt; | std_err &lt;dbl&gt; | .config &lt;chr&gt; |\n",
       "|---|---|---|---|---|---|---|\n",
       "|  7 | accuracy | binary | 0.8242908 | 5 | 0.01551140 | Model07 |\n",
       "|  8 | accuracy | binary | 0.8242908 | 5 | 0.01551140 | Model08 |\n",
       "| 11 | accuracy | binary | 0.8159574 | 5 | 0.02308219 | Model11 |\n",
       "| 12 | accuracy | binary | 0.8159574 | 5 | 0.02308219 | Model12 |\n",
       "|  9 | accuracy | binary | 0.8118794 | 5 | 0.01944432 | Model09 |\n",
       "| 10 | accuracy | binary | 0.8118794 | 5 | 0.01944432 | Model10 |\n",
       "|  5 | accuracy | binary | 0.8034574 | 5 | 0.01014926 | Model05 |\n",
       "|  6 | accuracy | binary | 0.8034574 | 5 | 0.01014926 | Model06 |\n",
       "| 15 | accuracy | binary | 0.7951241 | 5 | 0.03366064 | Model15 |\n",
       "| 13 | accuracy | binary | 0.7867021 | 5 | 0.03172205 | Model13 |\n",
       "| 14 | accuracy | binary | 0.7867021 | 5 | 0.03172205 | Model14 |\n",
       "|  3 | accuracy | binary | 0.7617908 | 5 | 0.02188280 | Model03 |\n",
       "|  4 | accuracy | binary | 0.7617908 | 5 | 0.02188280 | Model04 |\n",
       "|  1 | accuracy | binary | 0.7240248 | 5 | 0.03417366 | Model01 |\n",
       "|  2 | accuracy | binary | 0.7240248 | 5 | 0.03417366 | Model02 |\n",
       "\n"
      ],
      "text/plain": [
       "   neighbors .metric  .estimator mean      n std_err    .config\n",
       "1   7        accuracy binary     0.8242908 5 0.01551140 Model07\n",
       "2   8        accuracy binary     0.8242908 5 0.01551140 Model08\n",
       "3  11        accuracy binary     0.8159574 5 0.02308219 Model11\n",
       "4  12        accuracy binary     0.8159574 5 0.02308219 Model12\n",
       "5   9        accuracy binary     0.8118794 5 0.01944432 Model09\n",
       "6  10        accuracy binary     0.8118794 5 0.01944432 Model10\n",
       "7   5        accuracy binary     0.8034574 5 0.01014926 Model05\n",
       "8   6        accuracy binary     0.8034574 5 0.01014926 Model06\n",
       "9  15        accuracy binary     0.7951241 5 0.03366064 Model15\n",
       "10 13        accuracy binary     0.7867021 5 0.03172205 Model13\n",
       "11 14        accuracy binary     0.7867021 5 0.03172205 Model14\n",
       "12  3        accuracy binary     0.7617908 5 0.02188280 Model03\n",
       "13  4        accuracy binary     0.7617908 5 0.02188280 Model04\n",
       "14  1        accuracy binary     0.7240248 5 0.03417366 Model01\n",
       "15  2        accuracy binary     0.7240248 5 0.03417366 Model02"
      ]
     },
     "metadata": {},
     "output_type": "display_data"
    }
   ],
   "source": [
    "accuracies"
   ]
  },
  {
   "cell_type": "code",
   "execution_count": 49,
   "metadata": {},
   "outputs": [],
   "source": [
    "accuracies_plot <- ggplot(accuracies, aes(x = neighbors, y = mean)) +\n",
    "    geom_point() + \n",
    "    geom_line() +\n",
    "    labs(x = \"Neighbors\", y = \"Accuracy Estimate\") +\n",
    "    ggtitle(\"Accuracy Estimate versus the Number of K Nearest Neighbors\") +\n",
    "    theme(text = element_text(size = 20))"
   ]
  },
  {
   "cell_type": "markdown",
   "metadata": {},
   "source": [
    "### Figure 4 - Accuracy Estimate versus the Number of K Nearest Neighbors"
   ]
  },
  {
   "cell_type": "code",
   "execution_count": 50,
   "metadata": {},
   "outputs": [
    {
     "data": {
      "image/png": "[encoded data removed]",
      "text/plain": [
       "plot without title"
      ]
     },
     "metadata": {
      "image/png": {
       "height": 600,
       "width": 720
      }
     },
     "output_type": "display_data"
    }
   ],
   "source": [
    "accuracies_plot"
   ]
  },
  {
   "cell_type": "markdown",
   "metadata": {},
   "source": [
    "### Best K-Value"
   ]
  },
  {
   "cell_type": "code",
   "execution_count": 44,
   "metadata": {},
   "outputs": [
    {
     "data": {
      "text/html": [
       "7"
      ],
      "text/latex": [
       "7"
      ],
      "text/markdown": [
       "7"
      ],
      "text/plain": [
       "[1] 7"
      ]
     },
     "metadata": {},
     "output_type": "display_data"
    }
   ],
   "source": [
    "best_k <- accuracies %>%\n",
    "    slice(1) %>%\n",
    "    pull(neighbors)\n",
    "best_k"
   ]
  },
  {
   "cell_type": "markdown",
   "metadata": {},
   "source": [
    "The cross-validation results determined that 7 neighbors was the optimal number of neighbors producing the highest accuracy KNN classfication model. I will now update the model specification with this K-value. "
   ]
  },
  {
   "cell_type": "code",
   "execution_count": 58,
   "metadata": {},
   "outputs": [],
   "source": [
    "heart_disease_spec_best_k <- nearest_neighbor(weight_func = \"rectangular\", neighbors = best_k) %>%\n",
    "    set_engine(\"kknn\") %>%\n",
    "    set_mode(\"classification\")\n",
    "\n",
    "heart_disease_workflow <- workflow() %>%\n",
    "    add_recipe(heart_disease_recipe) %>%\n",
    "    add_model(heart_disease_spec_best_k)\n",
    "\n",
    "heart_disease_fit <- heart_disease_workflow %>%\n",
    "    fit(data = heart_disease_train)\n",
    "\n",
    "test_predictions <- predict(heart_disease_fit, heart_disease_test) %>%\n",
    "    bind_cols(heart_disease_test) \n",
    "\n",
    "# used later in the discussion section\n",
    "prediction_accuracy <- test_predictions %>%\n",
    "    metrics(truth = diagnosis, estimate = .pred_class)\n",
    "\n",
    "# used later in the discussion section\n",
    "heart_disease_matrix <- test_predictions %>%\n",
    "    conf_mat(truth = diagnosis, estimate = .pred_class)"
   ]
  },
  {
   "cell_type": "markdown",
   "metadata": {},
   "source": [
    "Now that I have trained and tested the model, I will now "
   ]
  },
  {
   "cell_type": "markdown",
   "metadata": {},
   "source": [
    "### Figure 5 - Maximum Heart Rate and Age against Heart Disease Diagnosis Revisited"
   ]
  },
  {
   "cell_type": "code",
   "execution_count": null,
   "metadata": {},
   "outputs": [],
   "source": []
  },
  {
   "cell_type": "markdown",
   "metadata": {},
   "source": [
    "### Figure 6 - Cholesterol and Resting Blood Pressure Against Heart Disease Diagnosis Revisited"
   ]
  },
  {
   "cell_type": "markdown",
   "metadata": {},
   "source": [
    "### Figure 7 - ST Depression Value and Maximum Heart Rate Against Heart Disease Diagnosis Revisited"
   ]
  },
  {
   "cell_type": "markdown",
   "metadata": {},
   "source": [
    "## Discussion \n",
    "***"
   ]
  },
  {
   "cell_type": "markdown",
   "metadata": {},
   "source": [
    "### Table 13 - Prediction Accuracy"
   ]
  },
  {
   "cell_type": "code",
   "execution_count": 53,
   "metadata": {},
   "outputs": [
    {
     "data": {
      "text/html": [
       "<table>\n",
       "<caption>A tibble: 2 × 3</caption>\n",
       "<thead>\n",
       "\t<tr><th scope=col>.metric</th><th scope=col>.estimator</th><th scope=col>.estimate</th></tr>\n",
       "\t<tr><th scope=col>&lt;chr&gt;</th><th scope=col>&lt;chr&gt;</th><th scope=col>&lt;dbl&gt;</th></tr>\n",
       "</thead>\n",
       "<tbody>\n",
       "\t<tr><td>accuracy</td><td>binary</td><td>0.9482759</td></tr>\n",
       "\t<tr><td>kap     </td><td>binary</td><td>0.8958084</td></tr>\n",
       "</tbody>\n",
       "</table>\n"
      ],
      "text/latex": [
       "A tibble: 2 × 3\n",
       "\\begin{tabular}{lll}\n",
       " .metric & .estimator & .estimate\\\\\n",
       " <chr> & <chr> & <dbl>\\\\\n",
       "\\hline\n",
       "\t accuracy & binary & 0.9482759\\\\\n",
       "\t kap      & binary & 0.8958084\\\\\n",
       "\\end{tabular}\n"
      ],
      "text/markdown": [
       "\n",
       "A tibble: 2 × 3\n",
       "\n",
       "| .metric &lt;chr&gt; | .estimator &lt;chr&gt; | .estimate &lt;dbl&gt; |\n",
       "|---|---|---|\n",
       "| accuracy | binary | 0.9482759 |\n",
       "| kap      | binary | 0.8958084 |\n",
       "\n"
      ],
      "text/plain": [
       "  .metric  .estimator .estimate\n",
       "1 accuracy binary     0.9482759\n",
       "2 kap      binary     0.8958084"
      ]
     },
     "metadata": {},
     "output_type": "display_data"
    }
   ],
   "source": [
    "prediction_accuracy"
   ]
  },
  {
   "cell_type": "markdown",
   "metadata": {},
   "source": [
    "### Table 14 - Confusion Matrix"
   ]
  },
  {
   "cell_type": "code",
   "execution_count": 52,
   "metadata": {},
   "outputs": [
    {
     "data": {
      "text/plain": [
       "          Truth\n",
       "Prediction Absence Presence\n",
       "  Absence       30        2\n",
       "  Presence       1       25"
      ]
     },
     "metadata": {},
     "output_type": "display_data"
    }
   ],
   "source": [
    "heart_disease_matrix"
   ]
  },
  {
   "cell_type": "markdown",
   "metadata": {},
   "source": [
    "## Works Cited\n",
    "***\n",
    "\n",
    "\"Getting Your Cholesterol Checked.\" <i>Centers for Disease Control and Prevention</i>, 15 Apr. 2021, www.cdc.gov/cholesterol/cholesterol_screening.htm. Accessed 15 Feb. 2022.\n",
    "\n",
    "\"Heart Disease Facts.\" <i>Centers for Disease Control and Prevention</i>, 9 Sept. 2020, www.cdc.gov/heartdisease/facts.htm. Accessed 15 Feb. 2022.\n",
    "\n",
    "\"High Blood Pressure Symptoms, Causes, and Problems | Cdc.gov.\" <i>Centers for Disease Control and Prevention</i>, 18 May 2021, www.cdc.gov/bloodpressure/about.htm. Accessed 15 Feb. 2022.\n",
    "\n",
    "\"Know Your Risk for Heart Disease.\" <i>Centers for Disease Control and Prevention</i>, 10 Dec. 2019, www.cdc.gov/heartdisease/risk_factors.htm. Accessed 15 Feb. 2022.\n",
    "\n",
    "Timbers, Tiffany, et al. \"Chapter 6 Classification II: Evaluation & Tuning | Data Science.\" Data Science, 2 Mar. 2022, datasciencebook.ca/classification2.html#forward-selection-in-r. Accessed 15 Feb. 2022.\n",
    "\n",
    "\"UCI Machine Learning Repository: Heart Disease Data Set.\" archive.ics.uci.edu/ml/datasets/Heart+Disease. Accessed 12 Feb. 2022."
   ]
  },
  {
   "cell_type": "code",
   "execution_count": null,
   "metadata": {},
   "outputs": [],
   "source": []
  }
 ],
 "metadata": {
  "kernelspec": {
   "display_name": "R",
   "language": "R",
   "name": "ir"
  },
  "language_info": {
   "codemirror_mode": "r",
   "file_extension": ".r",
   "mimetype": "text/x-r-source",
   "name": "R",
   "pygments_lexer": "r",
   "version": "4.0.0"
  }
 },
 "nbformat": 4,
 "nbformat_minor": 4
}
