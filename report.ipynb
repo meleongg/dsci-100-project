{
 "cells": [
  {
   "cell_type": "code",
   "execution_count": 3,
   "metadata": {},
   "outputs": [
    {
     "name": "stderr",
     "output_type": "stream",
     "text": [
      "Parsed with column specification:\n",
      "cols(\n",
      "  age = \u001b[32mcol_double()\u001b[39m,\n",
      "  sex = \u001b[32mcol_double()\u001b[39m,\n",
      "  chest_pain_type = \u001b[32mcol_double()\u001b[39m,\n",
      "  resting_blood_sugar = \u001b[32mcol_double()\u001b[39m,\n",
      "  cholestorol = \u001b[32mcol_double()\u001b[39m,\n",
      "  fasting_blood_sugar = \u001b[32mcol_double()\u001b[39m,\n",
      "  electrocardio_results = \u001b[32mcol_double()\u001b[39m,\n",
      "  max_heart_rate = \u001b[32mcol_double()\u001b[39m,\n",
      "  exercise_induced_angina = \u001b[32mcol_double()\u001b[39m,\n",
      "  ST_depression = \u001b[32mcol_double()\u001b[39m,\n",
      "  ST_peak_slope = \u001b[32mcol_double()\u001b[39m,\n",
      "  major_vessels = \u001b[31mcol_character()\u001b[39m,\n",
      "  thal = \u001b[31mcol_character()\u001b[39m,\n",
      "  diagnosis = \u001b[32mcol_double()\u001b[39m\n",
      ")\n",
      "\n",
      "Warning message:\n",
      "“Problem with `mutate()` input `major_vessels`.\n",
      "\u001b[34mℹ\u001b[39m NAs introduced by coercion\n",
      "\u001b[34mℹ\u001b[39m Input `major_vessels` is `as.numeric(major_vessels)`.”\n",
      "Warning message in mask$eval_all_mutate(dots[[i]]):\n",
      "“NAs introduced by coercion”\n",
      "Warning message:\n",
      "“Problem with `mutate()` input `thal`.\n",
      "\u001b[34mℹ\u001b[39m NAs introduced by coercion\n",
      "\u001b[34mℹ\u001b[39m Input `thal` is `as.numeric(thal)`.”\n",
      "Warning message in mask$eval_all_mutate(dots[[i]]):\n",
      "“NAs introduced by coercion”\n"
     ]
    },
    {
     "data": {
      "text/html": [
       "<table>\n",
       "<caption>A tibble: 1 × 1</caption>\n",
       "<thead>\n",
       "\t<tr><th scope=col>.pred_class</th></tr>\n",
       "\t<tr><th scope=col>&lt;fct&gt;</th></tr>\n",
       "</thead>\n",
       "<tbody>\n",
       "\t<tr><td>Presence</td></tr>\n",
       "</tbody>\n",
       "</table>\n"
      ],
      "text/latex": [
       "A tibble: 1 × 1\n",
       "\\begin{tabular}{l}\n",
       " .pred\\_class\\\\\n",
       " <fct>\\\\\n",
       "\\hline\n",
       "\t Presence\\\\\n",
       "\\end{tabular}\n"
      ],
      "text/markdown": [
       "\n",
       "A tibble: 1 × 1\n",
       "\n",
       "| .pred_class &lt;fct&gt; |\n",
       "|---|\n",
       "| Presence |\n",
       "\n"
      ],
      "text/plain": [
       "  .pred_class\n",
       "1 Presence   "
      ]
     },
     "metadata": {},
     "output_type": "display_data"
    }
   ],
   "source": [
    "library(tidyverse)\n",
    "library(tidymodels)\n",
    "# for data reproducibility\n",
    "set.seed(3)\n",
    "\n",
    "# reading & wrangling\n",
    "heart_disease <- read_csv(\"data/processed.cleveland.data\",\n",
    "                          col_names = c(\"age\", \"sex\", \"chest_pain_type\", \"resting_blood_sugar\", \"cholestorol\", \"fasting_blood_sugar\", \"electrocardio_results\", \"max_heart_rate\", \"exercise_induced_angina\", \"ST_depression\", \"ST_peak_slope\", \"major_vessels\", \"thal\", \"diagnosis\"))\n",
    "\n",
    "heart_disease[c(\"diagnosis\")][which(heart_disease$diagnosis > 1), ] <- 1\n",
    "\n",
    "heart_disease <- heart_disease %>%\n",
    "    mutate(major_vessels = as.numeric(major_vessels)) %>%\n",
    "    mutate(thal = as.numeric(thal)) \n",
    "\n",
    "heart_disease <- heart_disease %>%\n",
    "    mutate(diagnosis = as.factor(ifelse(diagnosis == 1, \"Presence\", \"Absence\")))\n",
    "\n",
    "heart_disease <- na.omit(heart_disease)\n",
    "\n",
    "# splitting\n",
    "heart_disease_split <- initial_split(heart_disease, prop = 0.8, strata = diagnosis)\n",
    "heart_disease_train <- training(heart_disease_split)\n",
    "heart_disease_test <- testing(heart_disease_split)\n",
    "\n",
    "# modelling\n",
    "knn_spec <- nearest_neighbor(weight_func = \"rectangular\", neighbors = 10) %>%\n",
    "    set_engine(\"kknn\") %>%\n",
    "    set_mode(\"classification\")\n",
    "# knn_spec\n",
    "\n",
    "knn_recipe <- recipe(diagnosis ~ age, sex, chest_pain_type, resting_blood_sugar, cholestorol, max_heart_rate, thal, data = heart_disease_train) %>%\n",
    "    step_scale(all_predictors()) %>%\n",
    "    step_center(all_predictors())\n",
    "# knn_recipe\n",
    "\n",
    "knn_workflow <- workflow() %>%\n",
    "    add_recipe(knn_recipe) %>%\n",
    "    add_model(knn_spec) \n",
    "# knn_workflow\n",
    "\n",
    "knn_fit <- knn_workflow %>%\n",
    "    fit(data = heart_disease_train)\n",
    "# knn_fit\n",
    "\n",
    "new_patient = tibble(age = 63, sex = 0, chest_pain_type = 3, resting_blood_sugar = 200, cholestorol = 300, fasting_blood_sugar = 0, electrocardio_results = 2, max_heart_rate = 180, exercise_induced_angina = 0, ST_depression = 0.9, ST_peak_slope = 3, major_vessels = 2, thal = 6)\n",
    "\n",
    "prediction <- predict(knn_fit, new_patient)\n",
    "\n",
    "prediction"
   ]
  },
  {
   "cell_type": "code",
   "execution_count": null,
   "metadata": {},
   "outputs": [],
   "source": []
  }
 ],
 "metadata": {
  "kernelspec": {
   "display_name": "R",
   "language": "R",
   "name": "ir"
  },
  "language_info": {
   "codemirror_mode": "r",
   "file_extension": ".r",
   "mimetype": "text/x-r-source",
   "name": "R",
   "pygments_lexer": "r",
   "version": "4.0.0"
  }
 },
 "nbformat": 4,
 "nbformat_minor": 4
}
