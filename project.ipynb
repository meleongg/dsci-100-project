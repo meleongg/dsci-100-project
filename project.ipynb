{
 "cells": [
  {
   "cell_type": "markdown",
   "metadata": {},
   "source": [
    "Project Proposal (max 500 words)\n",
    "\n",
    "Title\n",
    "\n",
    "Introduction:\n",
    "Provide some relevant background information on the topic so that someone unfamiliar with it will be prepared to understand the rest of your proposal\n",
    "- heart disease affects x in y canadians\n",
    "- it's very important heart disese, very painful & sadge\n",
    "- talk about how hard to spot? \n",
    "\n",
    "Clearly state the question you will try to answer with your project\n",
    "Identify and describe the dataset that will be used to answer the question\n",
    "- we will try to classify a new patient on whether or not they may have heart disease based on other predictor variables\n",
    "\n",
    "Preliminary exploratory data analysis:\n",
    "Demonstrate that the dataset can be read from the web into R \n",
    "Clean and wrangle your data into a tidy format\n",
    "\n",
    "- mutate the last column (assuming everything 1+ is 1 to follow their documentation)\n",
    "- mutated last column to be factor\n",
    "- mutated 2 columns to be numeric instead of character\n",
    "\n",
    "Using only training data, summarize the data in at least one table (this is exploratory data analysis). An example of a useful table could be one that reports the number of observations in each class, the means of the predictor variables you plan to use in your analysis and how many rows have missing data. \n",
    "- means of predictor variables\n",
    "- number of rows with missing data\n",
    "\n",
    "Using only training data, visualize the data with at least one plot relevant to the analysis you plan to do (this is exploratory data analysis). An example of a useful visualization could be one that compares the distributions of each of the predictor variables you plan to use in your analysis.\n",
    "- use one plot to visualize distributions of predictor variables\n",
    "\n",
    "Methods:\n",
    "Explain how you will conduct either your data analysis and which variables/columns you will use. Note - you do not need to use all variables/columns that exist in the raw data set. In fact, that's often not a good idea. For each variable think: is this a useful variable for prediction?\n",
    "Describe at least one way that you will visualize the results\n",
    "\n",
    "Expected outcomes and significance:\n",
    "What do you expect to find?\n",
    "What impact could such findings have?\n",
    "What future questions could this lead to?"
   ]
  },
  {
   "cell_type": "code",
   "execution_count": 41,
   "metadata": {},
   "outputs": [],
   "source": [
    "library(tidyverse)\n",
    "library(tidymodels)"
   ]
  },
  {
   "cell_type": "code",
   "execution_count": 61,
   "metadata": {},
   "outputs": [
    {
     "name": "stderr",
     "output_type": "stream",
     "text": [
      "Parsed with column specification:\n",
      "cols(\n",
      "  age = \u001b[32mcol_double()\u001b[39m,\n",
      "  sex = \u001b[32mcol_double()\u001b[39m,\n",
      "  chest_pain_type = \u001b[32mcol_double()\u001b[39m,\n",
      "  resting_blood_sugar = \u001b[32mcol_double()\u001b[39m,\n",
      "  cholestorol = \u001b[32mcol_double()\u001b[39m,\n",
      "  fasting_blood_sugar = \u001b[32mcol_double()\u001b[39m,\n",
      "  electrocardio_results = \u001b[32mcol_double()\u001b[39m,\n",
      "  max_heart_rate = \u001b[32mcol_double()\u001b[39m,\n",
      "  exercise_induced_angina = \u001b[32mcol_double()\u001b[39m,\n",
      "  ST_depression = \u001b[32mcol_double()\u001b[39m,\n",
      "  ST_peak_slope = \u001b[32mcol_double()\u001b[39m,\n",
      "  major_vessels = \u001b[31mcol_character()\u001b[39m,\n",
      "  thal = \u001b[31mcol_character()\u001b[39m,\n",
      "  diagnosis = \u001b[32mcol_double()\u001b[39m\n",
      ")\n",
      "\n",
      "Warning message:\n",
      "“Problem with `mutate()` input `major_vessels`.\n",
      "\u001b[34mℹ\u001b[39m NAs introduced by coercion\n",
      "\u001b[34mℹ\u001b[39m Input `major_vessels` is `as.numeric(major_vessels, na.rm = TRUE)`.”\n",
      "Warning message in mask$eval_all_mutate(dots[[i]]):\n",
      "“NAs introduced by coercion”\n",
      "Warning message:\n",
      "“Problem with `mutate()` input `thal`.\n",
      "\u001b[34mℹ\u001b[39m NAs introduced by coercion\n",
      "\u001b[34mℹ\u001b[39m Input `thal` is `as.numeric(thal, na.rm = TRUE)`.”\n",
      "Warning message in mask$eval_all_mutate(dots[[i]]):\n",
      "“NAs introduced by coercion”\n"
     ]
    },
    {
     "data": {
      "text/html": [
       "<table>\n",
       "<caption>A tibble: 1 × 1</caption>\n",
       "<thead>\n",
       "\t<tr><th scope=col>.pred_class</th></tr>\n",
       "\t<tr><th scope=col>&lt;fct&gt;</th></tr>\n",
       "</thead>\n",
       "<tbody>\n",
       "\t<tr><td>1</td></tr>\n",
       "</tbody>\n",
       "</table>\n"
      ],
      "text/latex": [
       "A tibble: 1 × 1\n",
       "\\begin{tabular}{l}\n",
       " .pred\\_class\\\\\n",
       " <fct>\\\\\n",
       "\\hline\n",
       "\t 1\\\\\n",
       "\\end{tabular}\n"
      ],
      "text/markdown": [
       "\n",
       "A tibble: 1 × 1\n",
       "\n",
       "| .pred_class &lt;fct&gt; |\n",
       "|---|\n",
       "| 1 |\n",
       "\n"
      ],
      "text/plain": [
       "  .pred_class\n",
       "1 1          "
      ]
     },
     "metadata": {},
     "output_type": "display_data"
    }
   ],
   "source": [
    "# nrow(cleveland_data) 303 rows\n",
    "cleveland_data <- read_csv(\"data/processed.cleveland.data\",\n",
    "                          col_names = c(\"age\", \"sex\", \"chest_pain_type\", \"resting_blood_sugar\", \"cholestorol\", \"fasting_blood_sugar\", \"electrocardio_results\", \"max_heart_rate\", \"exercise_induced_angina\", \"ST_depression\", \"ST_peak_slope\", \"major_vessels\", \"thal\", \"diagnosis\"))\n",
    "\n",
    "# selects the diagnosis column and replaces all values > 1 with 1\n",
    "# code inspired from https://datacornering.com/replace-r-data-frame-column-values-conditionally/\n",
    "cleveland_data[c(\"diagnosis\")][which(cleveland_data$diagnosis > 1), ] <- 1\n",
    "\n",
    "# cleaning up columns to be the correct type\n",
    "cleveland_data <- cleveland_data %>%\n",
    "    mutate(major_vessels = as.numeric(major_vessels, na.rm = TRUE)) %>%\n",
    "    mutate(thal = as.numeric(thal, na.rm = TRUE)) %>%\n",
    "    mutate(diagnosis = as.factor(diagnosis)) \n",
    "\n",
    "# cleveland_data\n",
    "\n",
    "knn_spec <- nearest_neighbor(weight_func = \"rectangular\", neighbors = 10) %>%\n",
    "    set_engine(\"kknn\") %>%\n",
    "    set_mode(\"classification\")\n",
    "# knn_spec\n",
    "\n",
    "knn_recipe <- recipe(diagnosis ~ ., data = cleveland_data) %>%\n",
    "    step_scale(all_predictors()) %>%\n",
    "    step_center(all_predictors())\n",
    "# knn_recipe\n",
    "\n",
    "knn_workflow <- workflow() %>%\n",
    "    add_recipe(knn_recipe) %>%\n",
    "    add_model(knn_spec) \n",
    "# knn_workflow\n",
    "\n",
    "knn_fit <- knn_workflow %>%\n",
    "    fit(data = cleveland_data)\n",
    "# knn_fit\n",
    "\n",
    "new_patient = tibble(age = 63, sex = 0, chest_pain_type = 3, resting_blood_sugar = 200, cholestorol = 300, fasting_blood_sugar = 0, electrocardio_results = 2, max_heart_rate = 180, exercise_induced_angina = 0, ST_depression = 0.9, ST_peak_slope = 3, major_vessels = 2, thal = 6)\n",
    "\n",
    "prediction <- predict(knn_fit, new_patient)\n",
    "\n",
    "# 0 = No Heart Disease, 1 = Heart Disease\n",
    "prediction\n"
   ]
  },
  {
   "cell_type": "code",
   "execution_count": null,
   "metadata": {},
   "outputs": [],
   "source": []
  }
 ],
 "metadata": {
  "kernelspec": {
   "display_name": "R",
   "language": "R",
   "name": "ir"
  },
  "language_info": {
   "codemirror_mode": "r",
   "file_extension": ".r",
   "mimetype": "text/x-r-source",
   "name": "R",
   "pygments_lexer": "r",
   "version": "4.0.0"
  }
 },
 "nbformat": 4,
 "nbformat_minor": 4
}
